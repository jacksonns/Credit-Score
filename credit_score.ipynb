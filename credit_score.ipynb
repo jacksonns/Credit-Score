{
 "cells": [
  {
   "cell_type": "markdown",
   "id": "60643bf2",
   "metadata": {},
   "source": [
    "# Credit Score Classification\n",
    "\n",
    "**Problem Statement:** You are working as a data scientist in a global finance company. Over the years, the company has collected basic bank details and gathered a lot of credit-related information. The management wants to build an intelligent system to segregate the people into credit score brackets to reduce the manual efforts.\n",
    "\n",
    "**Task:** Given a person’s credit-related information, build a machine learning model that can classify the credit score. There are three possible classes: ```Good```, ```Standard``` and ```Poor```.\n",
    "\n",
    "\n",
    "Data from https://www.kaggle.com/datasets/parisrohan/credit-score-classification"
   ]
  },
  {
   "cell_type": "markdown",
   "id": "9ca3b5bf",
   "metadata": {},
   "source": [
    "## 1. Imports"
   ]
  },
  {
   "cell_type": "code",
   "execution_count": 1,
   "id": "c2661d72",
   "metadata": {},
   "outputs": [],
   "source": [
    "import pandas as pd\n",
    "import numpy as np\n",
    "import re\n",
    "\n",
    "import matplotlib.pyplot as plt\n",
    "import seaborn as sns"
   ]
  },
  {
   "cell_type": "code",
   "execution_count": 121,
   "id": "096035db",
   "metadata": {},
   "outputs": [],
   "source": [
    "from sklearn.model_selection import train_test_split, cross_val_score, GridSearchCV\n",
    "from sklearn.preprocessing import MinMaxScaler\n",
    "from sklearn.feature_selection import SelectFromModel, SequentialFeatureSelector\n",
    "\n",
    "from sklearn.dummy import DummyClassifier\n",
    "from sklearn.ensemble import RandomForestClassifier\n",
    "from sklearn.linear_model import LogisticRegression\n",
    "from xgboost  import XGBClassifier\n",
    "\n",
    "from sklearn.metrics import (confusion_matrix, accuracy_score, balanced_accuracy_score,\n",
    "                            precision_score, recall_score, f1_score, cohen_kappa_score, \n",
    "                            classification_report, make_scorer)"
   ]
  },
  {
   "cell_type": "markdown",
   "id": "be3dd44e",
   "metadata": {},
   "source": [
    "## 2. Data Cleaning"
   ]
  },
  {
   "cell_type": "code",
   "execution_count": 3,
   "id": "6951ee0e",
   "metadata": {},
   "outputs": [],
   "source": [
    "train_data = pd.read_csv('data/train.csv', low_memory=False)"
   ]
  },
  {
   "cell_type": "code",
   "execution_count": 4,
   "id": "77cfdc51",
   "metadata": {},
   "outputs": [
    {
     "data": {
      "text/html": [
       "<div>\n",
       "<style scoped>\n",
       "    .dataframe tbody tr th:only-of-type {\n",
       "        vertical-align: middle;\n",
       "    }\n",
       "\n",
       "    .dataframe tbody tr th {\n",
       "        vertical-align: top;\n",
       "    }\n",
       "\n",
       "    .dataframe thead th {\n",
       "        text-align: right;\n",
       "    }\n",
       "</style>\n",
       "<table border=\"1\" class=\"dataframe\">\n",
       "  <thead>\n",
       "    <tr style=\"text-align: right;\">\n",
       "      <th></th>\n",
       "      <th>ID</th>\n",
       "      <th>Customer_ID</th>\n",
       "      <th>Month</th>\n",
       "      <th>Name</th>\n",
       "      <th>Age</th>\n",
       "      <th>SSN</th>\n",
       "      <th>Occupation</th>\n",
       "      <th>Annual_Income</th>\n",
       "      <th>Monthly_Inhand_Salary</th>\n",
       "      <th>Num_Bank_Accounts</th>\n",
       "      <th>...</th>\n",
       "      <th>Credit_Mix</th>\n",
       "      <th>Outstanding_Debt</th>\n",
       "      <th>Credit_Utilization_Ratio</th>\n",
       "      <th>Credit_History_Age</th>\n",
       "      <th>Payment_of_Min_Amount</th>\n",
       "      <th>Total_EMI_per_month</th>\n",
       "      <th>Amount_invested_monthly</th>\n",
       "      <th>Payment_Behaviour</th>\n",
       "      <th>Monthly_Balance</th>\n",
       "      <th>Credit_Score</th>\n",
       "    </tr>\n",
       "  </thead>\n",
       "  <tbody>\n",
       "    <tr>\n",
       "      <th>0</th>\n",
       "      <td>0x1602</td>\n",
       "      <td>CUS_0xd40</td>\n",
       "      <td>January</td>\n",
       "      <td>Aaron Maashoh</td>\n",
       "      <td>23</td>\n",
       "      <td>821-00-0265</td>\n",
       "      <td>Scientist</td>\n",
       "      <td>19114.12</td>\n",
       "      <td>1824.843333</td>\n",
       "      <td>3</td>\n",
       "      <td>...</td>\n",
       "      <td>_</td>\n",
       "      <td>809.98</td>\n",
       "      <td>26.822620</td>\n",
       "      <td>22 Years and 1 Months</td>\n",
       "      <td>No</td>\n",
       "      <td>49.574949</td>\n",
       "      <td>80.41529543900253</td>\n",
       "      <td>High_spent_Small_value_payments</td>\n",
       "      <td>312.49408867943663</td>\n",
       "      <td>Good</td>\n",
       "    </tr>\n",
       "    <tr>\n",
       "      <th>1</th>\n",
       "      <td>0x1603</td>\n",
       "      <td>CUS_0xd40</td>\n",
       "      <td>February</td>\n",
       "      <td>Aaron Maashoh</td>\n",
       "      <td>23</td>\n",
       "      <td>821-00-0265</td>\n",
       "      <td>Scientist</td>\n",
       "      <td>19114.12</td>\n",
       "      <td>NaN</td>\n",
       "      <td>3</td>\n",
       "      <td>...</td>\n",
       "      <td>Good</td>\n",
       "      <td>809.98</td>\n",
       "      <td>31.944960</td>\n",
       "      <td>NaN</td>\n",
       "      <td>No</td>\n",
       "      <td>49.574949</td>\n",
       "      <td>118.28022162236736</td>\n",
       "      <td>Low_spent_Large_value_payments</td>\n",
       "      <td>284.62916249607184</td>\n",
       "      <td>Good</td>\n",
       "    </tr>\n",
       "    <tr>\n",
       "      <th>2</th>\n",
       "      <td>0x1604</td>\n",
       "      <td>CUS_0xd40</td>\n",
       "      <td>March</td>\n",
       "      <td>Aaron Maashoh</td>\n",
       "      <td>-500</td>\n",
       "      <td>821-00-0265</td>\n",
       "      <td>Scientist</td>\n",
       "      <td>19114.12</td>\n",
       "      <td>NaN</td>\n",
       "      <td>3</td>\n",
       "      <td>...</td>\n",
       "      <td>Good</td>\n",
       "      <td>809.98</td>\n",
       "      <td>28.609352</td>\n",
       "      <td>22 Years and 3 Months</td>\n",
       "      <td>No</td>\n",
       "      <td>49.574949</td>\n",
       "      <td>81.699521264648</td>\n",
       "      <td>Low_spent_Medium_value_payments</td>\n",
       "      <td>331.2098628537912</td>\n",
       "      <td>Good</td>\n",
       "    </tr>\n",
       "    <tr>\n",
       "      <th>3</th>\n",
       "      <td>0x1605</td>\n",
       "      <td>CUS_0xd40</td>\n",
       "      <td>April</td>\n",
       "      <td>Aaron Maashoh</td>\n",
       "      <td>23</td>\n",
       "      <td>821-00-0265</td>\n",
       "      <td>Scientist</td>\n",
       "      <td>19114.12</td>\n",
       "      <td>NaN</td>\n",
       "      <td>3</td>\n",
       "      <td>...</td>\n",
       "      <td>Good</td>\n",
       "      <td>809.98</td>\n",
       "      <td>31.377862</td>\n",
       "      <td>22 Years and 4 Months</td>\n",
       "      <td>No</td>\n",
       "      <td>49.574949</td>\n",
       "      <td>199.4580743910713</td>\n",
       "      <td>Low_spent_Small_value_payments</td>\n",
       "      <td>223.45130972736786</td>\n",
       "      <td>Good</td>\n",
       "    </tr>\n",
       "    <tr>\n",
       "      <th>4</th>\n",
       "      <td>0x1606</td>\n",
       "      <td>CUS_0xd40</td>\n",
       "      <td>May</td>\n",
       "      <td>Aaron Maashoh</td>\n",
       "      <td>23</td>\n",
       "      <td>821-00-0265</td>\n",
       "      <td>Scientist</td>\n",
       "      <td>19114.12</td>\n",
       "      <td>1824.843333</td>\n",
       "      <td>3</td>\n",
       "      <td>...</td>\n",
       "      <td>Good</td>\n",
       "      <td>809.98</td>\n",
       "      <td>24.797347</td>\n",
       "      <td>22 Years and 5 Months</td>\n",
       "      <td>No</td>\n",
       "      <td>49.574949</td>\n",
       "      <td>41.420153086217326</td>\n",
       "      <td>High_spent_Medium_value_payments</td>\n",
       "      <td>341.48923103222177</td>\n",
       "      <td>Good</td>\n",
       "    </tr>\n",
       "  </tbody>\n",
       "</table>\n",
       "<p>5 rows × 28 columns</p>\n",
       "</div>"
      ],
      "text/plain": [
       "       ID Customer_ID     Month           Name   Age          SSN Occupation  \\\n",
       "0  0x1602   CUS_0xd40   January  Aaron Maashoh    23  821-00-0265  Scientist   \n",
       "1  0x1603   CUS_0xd40  February  Aaron Maashoh    23  821-00-0265  Scientist   \n",
       "2  0x1604   CUS_0xd40     March  Aaron Maashoh  -500  821-00-0265  Scientist   \n",
       "3  0x1605   CUS_0xd40     April  Aaron Maashoh    23  821-00-0265  Scientist   \n",
       "4  0x1606   CUS_0xd40       May  Aaron Maashoh    23  821-00-0265  Scientist   \n",
       "\n",
       "  Annual_Income  Monthly_Inhand_Salary  Num_Bank_Accounts  ...  Credit_Mix  \\\n",
       "0      19114.12            1824.843333                  3  ...           _   \n",
       "1      19114.12                    NaN                  3  ...        Good   \n",
       "2      19114.12                    NaN                  3  ...        Good   \n",
       "3      19114.12                    NaN                  3  ...        Good   \n",
       "4      19114.12            1824.843333                  3  ...        Good   \n",
       "\n",
       "   Outstanding_Debt Credit_Utilization_Ratio     Credit_History_Age  \\\n",
       "0            809.98                26.822620  22 Years and 1 Months   \n",
       "1            809.98                31.944960                    NaN   \n",
       "2            809.98                28.609352  22 Years and 3 Months   \n",
       "3            809.98                31.377862  22 Years and 4 Months   \n",
       "4            809.98                24.797347  22 Years and 5 Months   \n",
       "\n",
       "   Payment_of_Min_Amount Total_EMI_per_month Amount_invested_monthly  \\\n",
       "0                     No           49.574949       80.41529543900253   \n",
       "1                     No           49.574949      118.28022162236736   \n",
       "2                     No           49.574949         81.699521264648   \n",
       "3                     No           49.574949       199.4580743910713   \n",
       "4                     No           49.574949      41.420153086217326   \n",
       "\n",
       "                  Payment_Behaviour     Monthly_Balance Credit_Score  \n",
       "0   High_spent_Small_value_payments  312.49408867943663         Good  \n",
       "1    Low_spent_Large_value_payments  284.62916249607184         Good  \n",
       "2   Low_spent_Medium_value_payments   331.2098628537912         Good  \n",
       "3    Low_spent_Small_value_payments  223.45130972736786         Good  \n",
       "4  High_spent_Medium_value_payments  341.48923103222177         Good  \n",
       "\n",
       "[5 rows x 28 columns]"
      ]
     },
     "execution_count": 4,
     "metadata": {},
     "output_type": "execute_result"
    }
   ],
   "source": [
    "train_data.head()"
   ]
  },
  {
   "cell_type": "code",
   "execution_count": 5,
   "id": "51295177",
   "metadata": {},
   "outputs": [
    {
     "data": {
      "text/plain": [
       "(100000, 28)"
      ]
     },
     "execution_count": 5,
     "metadata": {},
     "output_type": "execute_result"
    }
   ],
   "source": [
    "train_data.shape"
   ]
  },
  {
   "cell_type": "code",
   "execution_count": 6,
   "id": "71ef0f53",
   "metadata": {
    "scrolled": true
   },
   "outputs": [
    {
     "name": "stdout",
     "output_type": "stream",
     "text": [
      "<class 'pandas.core.frame.DataFrame'>\n",
      "RangeIndex: 100000 entries, 0 to 99999\n",
      "Data columns (total 28 columns):\n",
      " #   Column                    Non-Null Count   Dtype  \n",
      "---  ------                    --------------   -----  \n",
      " 0   ID                        100000 non-null  object \n",
      " 1   Customer_ID               100000 non-null  object \n",
      " 2   Month                     100000 non-null  object \n",
      " 3   Name                      90015 non-null   object \n",
      " 4   Age                       100000 non-null  object \n",
      " 5   SSN                       100000 non-null  object \n",
      " 6   Occupation                100000 non-null  object \n",
      " 7   Annual_Income             100000 non-null  object \n",
      " 8   Monthly_Inhand_Salary     84998 non-null   float64\n",
      " 9   Num_Bank_Accounts         100000 non-null  int64  \n",
      " 10  Num_Credit_Card           100000 non-null  int64  \n",
      " 11  Interest_Rate             100000 non-null  int64  \n",
      " 12  Num_of_Loan               100000 non-null  object \n",
      " 13  Type_of_Loan              88592 non-null   object \n",
      " 14  Delay_from_due_date       100000 non-null  int64  \n",
      " 15  Num_of_Delayed_Payment    92998 non-null   object \n",
      " 16  Changed_Credit_Limit      100000 non-null  object \n",
      " 17  Num_Credit_Inquiries      98035 non-null   float64\n",
      " 18  Credit_Mix                100000 non-null  object \n",
      " 19  Outstanding_Debt          100000 non-null  object \n",
      " 20  Credit_Utilization_Ratio  100000 non-null  float64\n",
      " 21  Credit_History_Age        90970 non-null   object \n",
      " 22  Payment_of_Min_Amount     100000 non-null  object \n",
      " 23  Total_EMI_per_month       100000 non-null  float64\n",
      " 24  Amount_invested_monthly   95521 non-null   object \n",
      " 25  Payment_Behaviour         100000 non-null  object \n",
      " 26  Monthly_Balance           98800 non-null   object \n",
      " 27  Credit_Score              100000 non-null  object \n",
      "dtypes: float64(4), int64(4), object(20)\n",
      "memory usage: 21.4+ MB\n"
     ]
    }
   ],
   "source": [
    "train_data.info()"
   ]
  },
  {
   "cell_type": "code",
   "execution_count": 7,
   "id": "c853a939",
   "metadata": {},
   "outputs": [],
   "source": [
    "# We can remove some columns: ID, Name, SSN (social security number)\n",
    "train_data.drop(columns=['ID', 'Name', 'SSN'], inplace=True)"
   ]
  },
  {
   "cell_type": "markdown",
   "id": "0a0d210e",
   "metadata": {},
   "source": [
    "### 2.1 Numeric Variables\n",
    "\n",
    "* Some numeric variables ends with ```_```\n",
    "* Some of then has values ```__10000_``` and ```__-333333333333333333333333333_```.They were considered NaN"
   ]
  },
  {
   "cell_type": "code",
   "execution_count": 8,
   "id": "81295327",
   "metadata": {
    "scrolled": true
   },
   "outputs": [
    {
     "data": {
      "text/plain": [
       "10        34847.84_\n",
       "27        30689.89_\n",
       "32        35547.71_\n",
       "56        34081.38_\n",
       "66       114838.41_\n",
       "            ...    \n",
       "99959     38321.39_\n",
       "99974     16680.35_\n",
       "99981      37188.1_\n",
       "99993     39628.99_\n",
       "99999     39628.99_\n",
       "Name: Annual_Income, Length: 6980, dtype: object"
      ]
     },
     "execution_count": 8,
     "metadata": {},
     "output_type": "execute_result"
    }
   ],
   "source": [
    "# Some attributes should be numeric, but some values end with '_':\n",
    "# 'Age', 'Annual_Income' ,'Num_of_Loan', 'Num_of_Delayed_Payment', \n",
    "# 'Changed_Credit_Limit', 'Outstanding_Debt', 'Amount_invested_monthly', 'Monthly_Balance'\n",
    "\n",
    "numeric_values = pd.to_numeric(train_data['Annual_Income'], errors='coerce')\n",
    "train_data['Annual_Income'][numeric_values.isna()]"
   ]
  },
  {
   "cell_type": "code",
   "execution_count": 9,
   "id": "54340817",
   "metadata": {},
   "outputs": [],
   "source": [
    "# Replacing '_' with '' at the end of the values.\n",
    "numeric_columns = ['Age', 'Annual_Income' ,'Num_of_Loan', 'Num_of_Delayed_Payment', \n",
    "                   'Changed_Credit_Limit', 'Outstanding_Debt', 'Amount_invested_monthly', 'Monthly_Balance']\n",
    "\n",
    "train_data[numeric_columns] = train_data[numeric_columns].replace('_$', '', regex=True)"
   ]
  },
  {
   "cell_type": "code",
   "execution_count": 10,
   "id": "6e1cf4b9",
   "metadata": {},
   "outputs": [],
   "source": [
    "train_data.replace('', np.nan, inplace=True)"
   ]
  },
  {
   "cell_type": "code",
   "execution_count": 11,
   "id": "a4a058a3",
   "metadata": {},
   "outputs": [],
   "source": [
    "# Some values have \"__10000_\" or \"__-333333333333333333333333333_\" entry, they were considered NaN\n",
    "train_data[numeric_columns] = train_data[numeric_columns].replace('__10000_|__-333333333333333333333333333_', np.nan, regex=True)"
   ]
  },
  {
   "cell_type": "code",
   "execution_count": 12,
   "id": "c491fad1",
   "metadata": {},
   "outputs": [],
   "source": [
    "int_columns = ['Age','Num_of_Loan', 'Num_of_Delayed_Payment', 'Num_Credit_Inquiries',\n",
    "               'Num_Bank_Accounts', 'Num_Credit_Card', 'Interest_Rate', 'Delay_from_due_date']\n",
    "float_columns = ['Annual_Income', 'Changed_Credit_Limit', 'Outstanding_Debt',\n",
    "                 'Amount_invested_monthly', 'Monthly_Balance']          \n",
    "\n",
    "train_data[int_columns]= train_data[int_columns].astype('Int64')\n",
    "train_data[float_columns] = train_data[float_columns].astype('float64')"
   ]
  },
  {
   "cell_type": "code",
   "execution_count": 13,
   "id": "8b257248",
   "metadata": {},
   "outputs": [],
   "source": [
    "# Some columns can't have negative values, they are set to NaN\n",
    "non_negative = ['Age', 'Annual_Income' ,'Num_of_Loan', 'Num_of_Delayed_Payment',\n",
    "                'Num_Bank_Accounts', 'Num_Credit_Card', 'Monthly_Inhand_Salary',\n",
    "                'Interest_Rate', 'Num_Credit_Inquiries', 'Outstanding_Debt', \n",
    "                'Credit_Utilization_Ratio', 'Total_EMI_per_month', 'Amount_invested_monthly',\n",
    "                'Monthly_Balance']\n",
    "\n",
    "def replace_neg_with_nan(value):\n",
    "    if value < 0:\n",
    "        return np.nan\n",
    "    return value\n",
    "    \n",
    "train_data[non_negative] = train_data[non_negative].map(replace_neg_with_nan)"
   ]
  },
  {
   "cell_type": "code",
   "execution_count": 14,
   "id": "628bc4cc",
   "metadata": {},
   "outputs": [],
   "source": [
    "train_data[int_columns]= train_data[int_columns].astype('Int64')"
   ]
  },
  {
   "cell_type": "markdown",
   "id": "50ba846e",
   "metadata": {},
   "source": [
    "### 2.2 Categorical Variables\n",
    "\n",
    "* 'Occupation' and 'Credit_Mix': replace ```_``` with Nan\n",
    "* 'Payment_of_Min_Amount': replace ```NM``` with Nan\n",
    "* 'Credit_History_Age': convert **str** format from ```X years and Y months``` to **int** ```X*12+Y months```\n",
    "* Column 'Type_of_Loan' converted to one column per type.\n",
    "* Column 'Payment_Behaviour' which is in str format: ```X_spent_Y_value_payments``` turns into two columns: ```Spent_Amount``` and ```Value_Payments_Size```"
   ]
  },
  {
   "cell_type": "code",
   "execution_count": 15,
   "id": "f4638dcf",
   "metadata": {},
   "outputs": [
    {
     "data": {
      "text/plain": [
       "array(['Scientist', '_______', 'Teacher', 'Engineer', 'Entrepreneur',\n",
       "       'Developer', 'Lawyer', 'Media_Manager', 'Doctor', 'Journalist',\n",
       "       'Manager', 'Accountant', 'Musician', 'Mechanic', 'Writer',\n",
       "       'Architect'], dtype=object)"
      ]
     },
     "execution_count": 15,
     "metadata": {},
     "output_type": "execute_result"
    }
   ],
   "source": [
    "train_data['Occupation'].unique()"
   ]
  },
  {
   "cell_type": "code",
   "execution_count": 16,
   "id": "bb7441af",
   "metadata": {},
   "outputs": [
    {
     "data": {
      "text/plain": [
       "array(['_', 'Good', 'Standard', 'Bad'], dtype=object)"
      ]
     },
     "execution_count": 16,
     "metadata": {},
     "output_type": "execute_result"
    }
   ],
   "source": [
    "train_data['Credit_Mix'].unique()"
   ]
  },
  {
   "cell_type": "code",
   "execution_count": 17,
   "id": "45b73dcc",
   "metadata": {},
   "outputs": [],
   "source": [
    "# Replacing \"__\" categories with NaN\n",
    "train_data[['Occupation', 'Credit_Mix']] = train_data[['Occupation', 'Credit_Mix']].replace('_{1,}', np.nan, regex=True)"
   ]
  },
  {
   "cell_type": "code",
   "execution_count": 18,
   "id": "37742e26",
   "metadata": {},
   "outputs": [
    {
     "data": {
      "text/plain": [
       "array(['No', 'NM', 'Yes'], dtype=object)"
      ]
     },
     "execution_count": 18,
     "metadata": {},
     "output_type": "execute_result"
    }
   ],
   "source": [
    "train_data['Payment_of_Min_Amount'].unique()"
   ]
  },
  {
   "cell_type": "code",
   "execution_count": 19,
   "id": "a1584fd3",
   "metadata": {},
   "outputs": [],
   "source": [
    "# Replacing \"NM\" category with NaN\n",
    "train_data['Payment_of_Min_Amount'] = train_data['Payment_of_Min_Amount'].replace('NM', np.nan)"
   ]
  },
  {
   "cell_type": "code",
   "execution_count": 20,
   "id": "a9276b94",
   "metadata": {
    "scrolled": true
   },
   "outputs": [
    {
     "data": {
      "text/plain": [
       "array(['22 Years and 1 Months', nan, '22 Years and 3 Months',\n",
       "       '22 Years and 4 Months', '22 Years and 5 Months',\n",
       "       '22 Years and 6 Months', '22 Years and 7 Months',\n",
       "       '26 Years and 7 Months', '26 Years and 8 Months',\n",
       "       '26 Years and 9 Months'], dtype=object)"
      ]
     },
     "execution_count": 20,
     "metadata": {},
     "output_type": "execute_result"
    }
   ],
   "source": [
    "train_data['Credit_History_Age'].unique()[:10]"
   ]
  },
  {
   "cell_type": "code",
   "execution_count": 21,
   "id": "ce05ac35",
   "metadata": {},
   "outputs": [],
   "source": [
    "# Converting 'Credit_History_Age' to # of Months on a new Column 'Credit_History_Age_Months'\n",
    "years_and_months = train_data['Credit_History_Age'].str.extract(r'(\\d+) Years and (\\d+) Months')\n",
    "years_and_months = years_and_months.astype('Int64')\n",
    "months = years_and_months[0]*12 + years_and_months[1]\n",
    "\n",
    "train_data['Credit_History_Age_Months'] = months\n",
    "\n",
    "# 'Credit_History_Age' column can be deleted now\n",
    "train_data.drop('Credit_History_Age', axis=1, inplace=True)"
   ]
  },
  {
   "cell_type": "code",
   "execution_count": 22,
   "id": "de05752a",
   "metadata": {},
   "outputs": [
    {
     "data": {
      "text/plain": [
       "array(['Auto Loan, Credit-Builder Loan, Personal Loan, and Home Equity Loan',\n",
       "       'Credit-Builder Loan', 'Auto Loan, Auto Loan, and Not Specified',\n",
       "       ..., 'Home Equity Loan, Auto Loan, Auto Loan, and Auto Loan',\n",
       "       'Payday Loan, Student Loan, Mortgage Loan, and Not Specified',\n",
       "       'Personal Loan, Auto Loan, Mortgage Loan, Student Loan, and Student Loan'],\n",
       "      dtype=object)"
      ]
     },
     "execution_count": 22,
     "metadata": {},
     "output_type": "execute_result"
    }
   ],
   "source": [
    "train_data['Type_of_Loan'].unique()"
   ]
  },
  {
   "cell_type": "code",
   "execution_count": 23,
   "id": "6a9372d9",
   "metadata": {},
   "outputs": [
    {
     "data": {
      "text/plain": [
       "['Debt Consolidation Loan',\n",
       " 'Personal Loan',\n",
       " 'Home Equity Loan',\n",
       " 'Credit-Builder Loan',\n",
       " 'Not Specified',\n",
       " 'Auto Loan',\n",
       " nan,\n",
       " 'Mortgage Loan',\n",
       " 'Student Loan',\n",
       " 'Payday Loan']"
      ]
     },
     "execution_count": 23,
     "metadata": {},
     "output_type": "execute_result"
    }
   ],
   "source": [
    "# Each loan type becomes a column\n",
    "train_data['Type_of_Loan'] = train_data['Type_of_Loan'].replace('and ', '', regex=True)\n",
    "\n",
    "loan_types = train_data['Type_of_Loan'].str.split(', ').explode().tolist()\n",
    "loan_types = list(set(loan_types))\n",
    "loan_types"
   ]
  },
  {
   "cell_type": "code",
   "execution_count": 24,
   "id": "abe7fa11",
   "metadata": {},
   "outputs": [],
   "source": [
    "# The new column names follow the pattern: \"<Type>_Loan\" or \"Not_Specified\"\n",
    "loan_types = [s for s in loan_types if isinstance(s, str)]\n",
    "column_names = [re.sub(r' |-', '_', s) for s in loan_types]\n",
    "\n",
    "for l_type in loan_types:\n",
    "    column_name = re.sub(r' |-', '_', l_type)\n",
    "    train_data[column_name] = train_data['Type_of_Loan'].str.count(l_type)\n",
    "\n",
    "train_data[column_names] = train_data[column_names].astype('Int64')"
   ]
  },
  {
   "cell_type": "code",
   "execution_count": 25,
   "id": "a2eff880",
   "metadata": {},
   "outputs": [],
   "source": [
    "# When number of loan = 0, all loan types has its counts equal to 0\n",
    "train_data.loc[train_data['Num_of_Loan'] == 0, column_names] = 0"
   ]
  },
  {
   "cell_type": "code",
   "execution_count": 26,
   "id": "775ac034",
   "metadata": {},
   "outputs": [],
   "source": [
    "# Column 'Type_of_Loan can be deleted'\n",
    "train_data.drop('Type_of_Loan', axis=1, inplace=True)"
   ]
  },
  {
   "cell_type": "code",
   "execution_count": 27,
   "id": "8c82aad9",
   "metadata": {
    "scrolled": true
   },
   "outputs": [
    {
     "data": {
      "text/plain": [
       "array(['High_spent_Small_value_payments',\n",
       "       'Low_spent_Large_value_payments',\n",
       "       'Low_spent_Medium_value_payments',\n",
       "       'Low_spent_Small_value_payments',\n",
       "       'High_spent_Medium_value_payments', '!@9#%8',\n",
       "       'High_spent_Large_value_payments'], dtype=object)"
      ]
     },
     "execution_count": 27,
     "metadata": {},
     "output_type": "execute_result"
    }
   ],
   "source": [
    "train_data['Payment_Behaviour'].unique()"
   ]
  },
  {
   "cell_type": "code",
   "execution_count": 28,
   "id": "30d519c3",
   "metadata": {},
   "outputs": [],
   "source": [
    "train_data['Payment_Behaviour'] = train_data['Payment_Behaviour'].replace('!@9#%8', np.nan)"
   ]
  },
  {
   "cell_type": "code",
   "execution_count": 29,
   "id": "cd50fbcd",
   "metadata": {},
   "outputs": [],
   "source": [
    "# Creating two new columns for Spent Amount and value payments size\n",
    "spent_and_payments = train_data['Payment_Behaviour'].str.extract(r'(\\w+)_spent_(\\w+)_value_payments')\n",
    "train_data['Spent_Amount'] = spent_and_payments[0]\n",
    "train_data['Value_Payments_Size'] = spent_and_payments[1]\n",
    "\n",
    "train_data.drop('Payment_Behaviour', axis=1, inplace=True)"
   ]
  },
  {
   "cell_type": "code",
   "execution_count": 30,
   "id": "aa0e48be",
   "metadata": {},
   "outputs": [
    {
     "data": {
      "text/plain": [
       "array(['Good', 'Standard', 'Poor'], dtype=object)"
      ]
     },
     "execution_count": 30,
     "metadata": {},
     "output_type": "execute_result"
    }
   ],
   "source": [
    "train_data['Credit_Score'].unique()"
   ]
  },
  {
   "cell_type": "markdown",
   "id": "57b4054b",
   "metadata": {},
   "source": [
    "### 2.3. Handling Null values\n",
    "\n",
    "Now we can predict the NaN values based on the other values of the same customers (Grouped by ```Customer_ID```)\n",
    "\n",
    "* Float columns are replaced with the mean of a customers values\n",
    "* Int columns are replaced with the mode of values\n",
    "* Categorical columns are replaced with the most repeated category"
   ]
  },
  {
   "cell_type": "code",
   "execution_count": 31,
   "id": "2de45bed",
   "metadata": {},
   "outputs": [],
   "source": [
    "float_columns = [col for col in train_data.columns if train_data[col].dtype == 'float64']\n",
    "float_columns_means = train_data.groupby('Customer_ID')[float_columns].transform('mean')\n",
    "\n",
    "train_data[float_columns] = train_data[float_columns].fillna(float_columns_means)"
   ]
  },
  {
   "cell_type": "code",
   "execution_count": 32,
   "id": "2d0b77f7",
   "metadata": {},
   "outputs": [],
   "source": [
    "int_columns = [col for col in train_data.columns if train_data[col].dtype == 'Int64']\n",
    "int_columns_mode = train_data.groupby('Customer_ID')[int_columns].transform(lambda x: x.mode()[0])\n",
    "\n",
    "train_data[int_columns] = train_data[int_columns].fillna(int_columns_mode)"
   ]
  },
  {
   "cell_type": "code",
   "execution_count": 33,
   "id": "7151a76a",
   "metadata": {},
   "outputs": [],
   "source": [
    "object_columns = [col for col in train_data.columns if train_data[col].dtype == 'object']\n",
    "object_columns_mode = train_data.groupby('Customer_ID')[object_columns].transform(lambda x: \n",
    "                                                                                  x.mode()[0] if not x.mode().empty \n",
    "                                                                                  else None)\n",
    "\n",
    "train_data[object_columns] = train_data[object_columns].fillna(object_columns_mode)"
   ]
  },
  {
   "cell_type": "code",
   "execution_count": 34,
   "id": "b6c14df2",
   "metadata": {
    "scrolled": true
   },
   "outputs": [
    {
     "name": "stdout",
     "output_type": "stream",
     "text": [
      "<class 'pandas.core.frame.DataFrame'>\n",
      "RangeIndex: 100000 entries, 0 to 99999\n",
      "Data columns (total 34 columns):\n",
      " #   Column                     Non-Null Count   Dtype  \n",
      "---  ------                     --------------   -----  \n",
      " 0   Customer_ID                100000 non-null  object \n",
      " 1   Month                      100000 non-null  object \n",
      " 2   Age                        100000 non-null  Int64  \n",
      " 3   Occupation                 93280 non-null   object \n",
      " 4   Annual_Income              100000 non-null  float64\n",
      " 5   Monthly_Inhand_Salary      100000 non-null  float64\n",
      " 6   Num_Bank_Accounts          100000 non-null  Int64  \n",
      " 7   Num_Credit_Card            100000 non-null  Int64  \n",
      " 8   Interest_Rate              100000 non-null  Int64  \n",
      " 9   Num_of_Loan                100000 non-null  Int64  \n",
      " 10  Delay_from_due_date        100000 non-null  Int64  \n",
      " 11  Num_of_Delayed_Payment     100000 non-null  Int64  \n",
      " 12  Changed_Credit_Limit       100000 non-null  float64\n",
      " 13  Num_Credit_Inquiries       100000 non-null  Int64  \n",
      " 14  Credit_Mix                 100000 non-null  object \n",
      " 15  Outstanding_Debt           100000 non-null  float64\n",
      " 16  Credit_Utilization_Ratio   100000 non-null  float64\n",
      " 17  Payment_of_Min_Amount      100000 non-null  object \n",
      " 18  Total_EMI_per_month        100000 non-null  float64\n",
      " 19  Amount_invested_monthly    100000 non-null  float64\n",
      " 20  Monthly_Balance            100000 non-null  float64\n",
      " 21  Credit_Score               100000 non-null  object \n",
      " 22  Credit_History_Age_Months  100000 non-null  Int64  \n",
      " 23  Debt_Consolidation_Loan    100000 non-null  Int64  \n",
      " 24  Personal_Loan              100000 non-null  Int64  \n",
      " 25  Home_Equity_Loan           100000 non-null  Int64  \n",
      " 26  Credit_Builder_Loan        100000 non-null  Int64  \n",
      " 27  Not_Specified              100000 non-null  Int64  \n",
      " 28  Auto_Loan                  100000 non-null  Int64  \n",
      " 29  Mortgage_Loan              100000 non-null  Int64  \n",
      " 30  Student_Loan               100000 non-null  Int64  \n",
      " 31  Payday_Loan                100000 non-null  Int64  \n",
      " 32  Spent_Amount               100000 non-null  object \n",
      " 33  Value_Payments_Size        100000 non-null  object \n",
      "dtypes: Int64(18), float64(8), object(8)\n",
      "memory usage: 27.7+ MB\n"
     ]
    }
   ],
   "source": [
    "train_data.info()"
   ]
  },
  {
   "cell_type": "markdown",
   "id": "cfa11bcf",
   "metadata": {},
   "source": [
    "## 3. Exploratory Data Analysis (EDA)"
   ]
  },
  {
   "cell_type": "code",
   "execution_count": 35,
   "id": "743aa1fb",
   "metadata": {},
   "outputs": [],
   "source": [
    "df = train_data.copy()"
   ]
  },
  {
   "cell_type": "code",
   "execution_count": 36,
   "id": "1269ee93",
   "metadata": {},
   "outputs": [
    {
     "data": {
      "text/html": [
       "<div>\n",
       "<style scoped>\n",
       "    .dataframe tbody tr th:only-of-type {\n",
       "        vertical-align: middle;\n",
       "    }\n",
       "\n",
       "    .dataframe tbody tr th {\n",
       "        vertical-align: top;\n",
       "    }\n",
       "\n",
       "    .dataframe thead th {\n",
       "        text-align: right;\n",
       "    }\n",
       "</style>\n",
       "<table border=\"1\" class=\"dataframe\">\n",
       "  <thead>\n",
       "    <tr style=\"text-align: right;\">\n",
       "      <th></th>\n",
       "      <th>Age</th>\n",
       "      <th>Annual_Income</th>\n",
       "      <th>Monthly_Inhand_Salary</th>\n",
       "      <th>Num_Bank_Accounts</th>\n",
       "      <th>Num_Credit_Card</th>\n",
       "      <th>Interest_Rate</th>\n",
       "      <th>Num_of_Loan</th>\n",
       "      <th>Delay_from_due_date</th>\n",
       "      <th>Num_of_Delayed_Payment</th>\n",
       "      <th>Changed_Credit_Limit</th>\n",
       "      <th>...</th>\n",
       "      <th>Credit_History_Age_Months</th>\n",
       "      <th>Debt_Consolidation_Loan</th>\n",
       "      <th>Personal_Loan</th>\n",
       "      <th>Home_Equity_Loan</th>\n",
       "      <th>Credit_Builder_Loan</th>\n",
       "      <th>Not_Specified</th>\n",
       "      <th>Auto_Loan</th>\n",
       "      <th>Mortgage_Loan</th>\n",
       "      <th>Student_Loan</th>\n",
       "      <th>Payday_Loan</th>\n",
       "    </tr>\n",
       "  </thead>\n",
       "  <tbody>\n",
       "    <tr>\n",
       "      <th>count</th>\n",
       "      <td>100000.0</td>\n",
       "      <td>1.000000e+05</td>\n",
       "      <td>100000.000000</td>\n",
       "      <td>100000.0</td>\n",
       "      <td>100000.0</td>\n",
       "      <td>100000.0</td>\n",
       "      <td>100000.0</td>\n",
       "      <td>100000.0</td>\n",
       "      <td>100000.0</td>\n",
       "      <td>100000.000000</td>\n",
       "      <td>...</td>\n",
       "      <td>100000.0</td>\n",
       "      <td>100000.0</td>\n",
       "      <td>100000.0</td>\n",
       "      <td>100000.0</td>\n",
       "      <td>100000.0</td>\n",
       "      <td>100000.0</td>\n",
       "      <td>100000.0</td>\n",
       "      <td>100000.0</td>\n",
       "      <td>100000.0</td>\n",
       "      <td>100000.0</td>\n",
       "    </tr>\n",
       "    <tr>\n",
       "      <th>mean</th>\n",
       "      <td>115.37331</td>\n",
       "      <td>1.764157e+05</td>\n",
       "      <td>4198.468568</td>\n",
       "      <td>17.09149</td>\n",
       "      <td>22.47443</td>\n",
       "      <td>72.46604</td>\n",
       "      <td>7.02288</td>\n",
       "      <td>21.06878</td>\n",
       "      <td>29.70323</td>\n",
       "      <td>10.388537</td>\n",
       "      <td>...</td>\n",
       "      <td>220.91127</td>\n",
       "      <td>0.38776</td>\n",
       "      <td>0.38888</td>\n",
       "      <td>0.39104</td>\n",
       "      <td>0.4044</td>\n",
       "      <td>0.39616</td>\n",
       "      <td>0.37992</td>\n",
       "      <td>0.38936</td>\n",
       "      <td>0.38968</td>\n",
       "      <td>0.40568</td>\n",
       "    </tr>\n",
       "    <tr>\n",
       "      <th>std</th>\n",
       "      <td>683.856594</td>\n",
       "      <td>1.429618e+06</td>\n",
       "      <td>3187.369878</td>\n",
       "      <td>117.404803</td>\n",
       "      <td>129.05741</td>\n",
       "      <td>466.422621</td>\n",
       "      <td>59.140535</td>\n",
       "      <td>14.860104</td>\n",
       "      <td>218.025389</td>\n",
       "      <td>6.784097</td>\n",
       "      <td>...</td>\n",
       "      <td>99.682053</td>\n",
       "      <td>0.645079</td>\n",
       "      <td>0.645644</td>\n",
       "      <td>0.646879</td>\n",
       "      <td>0.667462</td>\n",
       "      <td>0.650924</td>\n",
       "      <td>0.640176</td>\n",
       "      <td>0.642497</td>\n",
       "      <td>0.64998</td>\n",
       "      <td>0.66428</td>\n",
       "    </tr>\n",
       "    <tr>\n",
       "      <th>min</th>\n",
       "      <td>14.0</td>\n",
       "      <td>7.005930e+03</td>\n",
       "      <td>303.645417</td>\n",
       "      <td>0.0</td>\n",
       "      <td>0.0</td>\n",
       "      <td>1.0</td>\n",
       "      <td>0.0</td>\n",
       "      <td>-5.0</td>\n",
       "      <td>0.0</td>\n",
       "      <td>-6.490000</td>\n",
       "      <td>...</td>\n",
       "      <td>1.0</td>\n",
       "      <td>0.0</td>\n",
       "      <td>0.0</td>\n",
       "      <td>0.0</td>\n",
       "      <td>0.0</td>\n",
       "      <td>0.0</td>\n",
       "      <td>0.0</td>\n",
       "      <td>0.0</td>\n",
       "      <td>0.0</td>\n",
       "      <td>0.0</td>\n",
       "    </tr>\n",
       "    <tr>\n",
       "      <th>25%</th>\n",
       "      <td>25.0</td>\n",
       "      <td>1.945750e+04</td>\n",
       "      <td>1626.594167</td>\n",
       "      <td>3.0</td>\n",
       "      <td>4.0</td>\n",
       "      <td>8.0</td>\n",
       "      <td>2.0</td>\n",
       "      <td>10.0</td>\n",
       "      <td>9.0</td>\n",
       "      <td>5.340000</td>\n",
       "      <td>...</td>\n",
       "      <td>144.0</td>\n",
       "      <td>0.0</td>\n",
       "      <td>0.0</td>\n",
       "      <td>0.0</td>\n",
       "      <td>0.0</td>\n",
       "      <td>0.0</td>\n",
       "      <td>0.0</td>\n",
       "      <td>0.0</td>\n",
       "      <td>0.0</td>\n",
       "      <td>0.0</td>\n",
       "    </tr>\n",
       "    <tr>\n",
       "      <th>50%</th>\n",
       "      <td>33.0</td>\n",
       "      <td>3.757861e+04</td>\n",
       "      <td>3096.378333</td>\n",
       "      <td>6.0</td>\n",
       "      <td>5.0</td>\n",
       "      <td>13.0</td>\n",
       "      <td>3.0</td>\n",
       "      <td>18.0</td>\n",
       "      <td>14.0</td>\n",
       "      <td>9.400000</td>\n",
       "      <td>...</td>\n",
       "      <td>219.0</td>\n",
       "      <td>0.0</td>\n",
       "      <td>0.0</td>\n",
       "      <td>0.0</td>\n",
       "      <td>0.0</td>\n",
       "      <td>0.0</td>\n",
       "      <td>0.0</td>\n",
       "      <td>0.0</td>\n",
       "      <td>0.0</td>\n",
       "      <td>0.0</td>\n",
       "    </tr>\n",
       "    <tr>\n",
       "      <th>75%</th>\n",
       "      <td>42.0</td>\n",
       "      <td>7.279092e+04</td>\n",
       "      <td>5961.637500</td>\n",
       "      <td>7.0</td>\n",
       "      <td>7.0</td>\n",
       "      <td>20.0</td>\n",
       "      <td>5.0</td>\n",
       "      <td>28.0</td>\n",
       "      <td>18.0</td>\n",
       "      <td>14.850000</td>\n",
       "      <td>...</td>\n",
       "      <td>302.0</td>\n",
       "      <td>1.0</td>\n",
       "      <td>1.0</td>\n",
       "      <td>1.0</td>\n",
       "      <td>1.0</td>\n",
       "      <td>1.0</td>\n",
       "      <td>1.0</td>\n",
       "      <td>1.0</td>\n",
       "      <td>1.0</td>\n",
       "      <td>1.0</td>\n",
       "    </tr>\n",
       "    <tr>\n",
       "      <th>max</th>\n",
       "      <td>8698.0</td>\n",
       "      <td>2.419806e+07</td>\n",
       "      <td>15204.633333</td>\n",
       "      <td>1798.0</td>\n",
       "      <td>1499.0</td>\n",
       "      <td>5797.0</td>\n",
       "      <td>1496.0</td>\n",
       "      <td>67.0</td>\n",
       "      <td>4397.0</td>\n",
       "      <td>36.970000</td>\n",
       "      <td>...</td>\n",
       "      <td>404.0</td>\n",
       "      <td>5.0</td>\n",
       "      <td>4.0</td>\n",
       "      <td>5.0</td>\n",
       "      <td>4.0</td>\n",
       "      <td>4.0</td>\n",
       "      <td>4.0</td>\n",
       "      <td>5.0</td>\n",
       "      <td>5.0</td>\n",
       "      <td>5.0</td>\n",
       "    </tr>\n",
       "  </tbody>\n",
       "</table>\n",
       "<p>8 rows × 26 columns</p>\n",
       "</div>"
      ],
      "text/plain": [
       "              Age  Annual_Income  Monthly_Inhand_Salary  Num_Bank_Accounts  \\\n",
       "count    100000.0   1.000000e+05          100000.000000           100000.0   \n",
       "mean    115.37331   1.764157e+05            4198.468568           17.09149   \n",
       "std    683.856594   1.429618e+06            3187.369878         117.404803   \n",
       "min          14.0   7.005930e+03             303.645417                0.0   \n",
       "25%          25.0   1.945750e+04            1626.594167                3.0   \n",
       "50%          33.0   3.757861e+04            3096.378333                6.0   \n",
       "75%          42.0   7.279092e+04            5961.637500                7.0   \n",
       "max        8698.0   2.419806e+07           15204.633333             1798.0   \n",
       "\n",
       "       Num_Credit_Card  Interest_Rate  Num_of_Loan  Delay_from_due_date  \\\n",
       "count         100000.0       100000.0     100000.0             100000.0   \n",
       "mean          22.47443       72.46604      7.02288             21.06878   \n",
       "std          129.05741     466.422621    59.140535            14.860104   \n",
       "min                0.0            1.0          0.0                 -5.0   \n",
       "25%                4.0            8.0          2.0                 10.0   \n",
       "50%                5.0           13.0          3.0                 18.0   \n",
       "75%                7.0           20.0          5.0                 28.0   \n",
       "max             1499.0         5797.0       1496.0                 67.0   \n",
       "\n",
       "       Num_of_Delayed_Payment  Changed_Credit_Limit  ...  \\\n",
       "count                100000.0         100000.000000  ...   \n",
       "mean                 29.70323             10.388537  ...   \n",
       "std                218.025389              6.784097  ...   \n",
       "min                       0.0             -6.490000  ...   \n",
       "25%                       9.0              5.340000  ...   \n",
       "50%                      14.0              9.400000  ...   \n",
       "75%                      18.0             14.850000  ...   \n",
       "max                    4397.0             36.970000  ...   \n",
       "\n",
       "       Credit_History_Age_Months  Debt_Consolidation_Loan  Personal_Loan  \\\n",
       "count                   100000.0                 100000.0       100000.0   \n",
       "mean                   220.91127                  0.38776        0.38888   \n",
       "std                    99.682053                 0.645079       0.645644   \n",
       "min                          1.0                      0.0            0.0   \n",
       "25%                        144.0                      0.0            0.0   \n",
       "50%                        219.0                      0.0            0.0   \n",
       "75%                        302.0                      1.0            1.0   \n",
       "max                        404.0                      5.0            4.0   \n",
       "\n",
       "       Home_Equity_Loan  Credit_Builder_Loan  Not_Specified  Auto_Loan  \\\n",
       "count          100000.0             100000.0       100000.0   100000.0   \n",
       "mean            0.39104               0.4044        0.39616    0.37992   \n",
       "std            0.646879             0.667462       0.650924   0.640176   \n",
       "min                 0.0                  0.0            0.0        0.0   \n",
       "25%                 0.0                  0.0            0.0        0.0   \n",
       "50%                 0.0                  0.0            0.0        0.0   \n",
       "75%                 1.0                  1.0            1.0        1.0   \n",
       "max                 5.0                  4.0            4.0        4.0   \n",
       "\n",
       "       Mortgage_Loan  Student_Loan  Payday_Loan  \n",
       "count       100000.0      100000.0     100000.0  \n",
       "mean         0.38936       0.38968      0.40568  \n",
       "std         0.642497       0.64998      0.66428  \n",
       "min              0.0           0.0          0.0  \n",
       "25%              0.0           0.0          0.0  \n",
       "50%              0.0           0.0          0.0  \n",
       "75%              1.0           1.0          1.0  \n",
       "max              5.0           5.0          5.0  \n",
       "\n",
       "[8 rows x 26 columns]"
      ]
     },
     "execution_count": 36,
     "metadata": {},
     "output_type": "execute_result"
    }
   ],
   "source": [
    "df.describe()"
   ]
  },
  {
   "cell_type": "markdown",
   "id": "f88583c9",
   "metadata": {},
   "source": [
    "### 3.1. Continuous Variables\n",
    "\n",
    "The next plot shows weird outliers on some variables: 'Annual_Income', 'Total_EMI_per_month'.\n",
    "\n",
    "* They were replaced based on the other values for the same Customer_ID"
   ]
  },
  {
   "cell_type": "code",
   "execution_count": 37,
   "id": "da1dc5d4",
   "metadata": {},
   "outputs": [
    {
     "data": {
      "image/png": "[encoded data removed]",
      "text/plain": [
       "<Figure size 864x576 with 8 Axes>"
      ]
     },
     "metadata": {
      "needs_background": "light"
     },
     "output_type": "display_data"
    }
   ],
   "source": [
    "fig, axes = plt.subplots(2, 4, figsize=(12,8))\n",
    "\n",
    "row = 0\n",
    "col = 0\n",
    "\n",
    "for column in float_columns:\n",
    "    axes[row][col].set(ylabel=None)\n",
    "    sns.boxplot(data=df, y=column, ax=axes[row][col]).set_title(column, fontsize=14)\n",
    "    col += 1\n",
    "    if col == 4:\n",
    "        row += 1\n",
    "        col = 0\n",
    "\n",
    "fig.suptitle('Continuous Variables', fontsize=18, y=1)\n",
    "plt.setp(axes, ylabel=None)\n",
    "plt.tight_layout()\n",
    "plt.show()"
   ]
  },
  {
   "cell_type": "code",
   "execution_count": 38,
   "id": "c7b43f7d",
   "metadata": {},
   "outputs": [],
   "source": [
    "outlier_columns = ['Annual_Income', 'Total_EMI_per_month']\n",
    "\n",
    "Q1 = train_data[outlier_columns].quantile(0.25)\n",
    "Q3 = train_data[outlier_columns].quantile(0.75)\n",
    "upper_limit = Q3 + 1.5*(Q3-Q1)\n",
    "\n",
    "def replace_outliers_with_median(group, col_name):\n",
    "    mask = group > upper_limit[col_name]\n",
    "    group[mask] = group.mode()[0]\n",
    "    return group   \n",
    "\n",
    "for col in outlier_columns:\n",
    "    df[col] = df.groupby('Customer_ID')[col].transform(replace_outliers_with_median, col_name=col)"
   ]
  },
  {
   "cell_type": "code",
   "execution_count": 39,
   "id": "35f59ef7",
   "metadata": {
    "scrolled": false
   },
   "outputs": [
    {
     "data": {
      "image/png": "[encoded data removed]",
      "text/plain": [
       "<Figure size 504x360 with 2 Axes>"
      ]
     },
     "metadata": {
      "needs_background": "light"
     },
     "output_type": "display_data"
    }
   ],
   "source": [
    "fig, axes = plt.subplots(1, 2, figsize=(7,5))\n",
    "\n",
    "row = 0\n",
    "\n",
    "for column in outlier_columns:\n",
    "    axes[row].set(ylabel=None)\n",
    "    sns.boxplot(data=df, y=column, ax=axes[row]).set_title(column, fontsize=14)\n",
    "    row += 1\n",
    "\n",
    "fig.suptitle('After outlier handling', fontsize=18, y=1)\n",
    "plt.setp(axes, ylabel=None)\n",
    "plt.tight_layout()\n",
    "plt.show()"
   ]
  },
  {
   "cell_type": "markdown",
   "id": "09a55437",
   "metadata": {},
   "source": [
    "### 3.2. Integer Variables\n",
    "\n",
    "The next plot shows weird outliers on some variables: 'Age', 'Num_Bank_Accounts', 'Num_Credit_Card', 'Interest_Rate', 'Num_of_Loan', 'Num_of_Delayed_Payment', 'Num_Credit_Inquires'.\n",
    "\n",
    "* They were replaced based on the other values for the same Customer_ID"
   ]
  },
  {
   "cell_type": "code",
   "execution_count": 40,
   "id": "ef0f320c",
   "metadata": {},
   "outputs": [
    {
     "data": {
      "image/png": "[encoded data removed]",
      "text/plain": [
       "<Figure size 1008x720 with 20 Axes>"
      ]
     },
     "metadata": {
      "needs_background": "light"
     },
     "output_type": "display_data"
    }
   ],
   "source": [
    "fig, axes = plt.subplots(4, 5, figsize=(14,10))\n",
    "\n",
    "row = 0\n",
    "col = 0\n",
    "\n",
    "for column in int_columns:\n",
    "    axes[row][col].set(ylabel=None)\n",
    "    sns.boxplot(data=df, y=column, ax=axes[row][col]).set_title(column, fontsize=14)\n",
    "    col += 1\n",
    "    if col == 5:\n",
    "        row += 1\n",
    "        col = 0\n",
    "\n",
    "fig.suptitle('Numeric Discrete Variables', fontsize=18, y=1)\n",
    "plt.setp(axes, ylabel=None)\n",
    "plt.tight_layout()\n",
    "plt.show()"
   ]
  },
  {
   "cell_type": "code",
   "execution_count": 41,
   "id": "808ba551",
   "metadata": {},
   "outputs": [],
   "source": [
    "outlier_columns = ['Age', 'Num_Bank_Accounts', 'Num_Credit_Card', \n",
    "                    'Interest_Rate', 'Num_of_Loan', 'Num_of_Delayed_Payment', \n",
    "                    'Num_Credit_Inquiries']\n",
    "\n",
    "Q1 = train_data[outlier_columns].quantile(0.25)\n",
    "Q3 = train_data[outlier_columns].quantile(0.75)\n",
    "upper_limit = Q3 + 1.5*(Q3-Q1) \n",
    "\n",
    "def replace_outliers_with_median(group, col_name):\n",
    "    mask = group > upper_limit[col_name]\n",
    "    group[mask] = group.mode()[0]\n",
    "    return group \n",
    "\n",
    "for col in outlier_columns:\n",
    "    df[col] = df.groupby('Customer_ID')[col].transform(replace_outliers_with_median, col_name=col)"
   ]
  },
  {
   "cell_type": "code",
   "execution_count": 42,
   "id": "c33962b8",
   "metadata": {},
   "outputs": [
    {
     "data": {
      "image/png": "[encoded data removed]",
      "text/plain": [
       "<Figure size 864x576 with 8 Axes>"
      ]
     },
     "metadata": {
      "needs_background": "light"
     },
     "output_type": "display_data"
    }
   ],
   "source": [
    "fig, axes = plt.subplots(2, 4, figsize=(12,8))\n",
    "\n",
    "row = 0\n",
    "col = 0\n",
    "\n",
    "for column in outlier_columns:\n",
    "    axes[row][col].set(ylabel=None)\n",
    "    sns.boxplot(data=df, y=column, ax=axes[row][col]).set_title(column, fontsize=14)\n",
    "    col += 1\n",
    "    if col == 4:\n",
    "        row += 1\n",
    "        col = 0\n",
    "\n",
    "fig.suptitle('After handling outliers', fontsize=18, y=1)\n",
    "plt.setp(axes, ylabel=None)\n",
    "plt.tight_layout()\n",
    "plt.show()"
   ]
  },
  {
   "cell_type": "markdown",
   "id": "7361aa08",
   "metadata": {},
   "source": [
    "### 3.3. Credit Score classes\n",
    "\n",
    "* Some attributes seens not to change on different credit score classes, such as ```Credit_Utilization_Ratio```, ```Amount_Invested_Monthly```, ```Total_EMI_per_month``` and ```Loan Types```. They may not be considered for model's training.\n",
    "* ```Spent_Amount``` and ```Value_Payment_Size``` don't look to have huge influence on credit score\n",
    "* Through correlation matrix, we can verify that ```Anual_Income``` and ```Monthly_Inhand_Salary``` are redundant information, so one of them can be deleted."
   ]
  },
  {
   "cell_type": "code",
   "execution_count": 43,
   "id": "9bfd8623",
   "metadata": {},
   "outputs": [
    {
     "data": {
      "image/png": "[encoded data removed]",
      "text/plain": [
       "<Figure size 504x288 with 1 Axes>"
      ]
     },
     "metadata": {
      "needs_background": "light"
     },
     "output_type": "display_data"
    }
   ],
   "source": [
    "plt.figure(figsize=(7,4))\n",
    "sns.countplot(data=df, x='Credit_Score', hue='Credit_Score')\n",
    "plt.title('Distribution of Credit Scores', fontsize=14)\n",
    "plt.xlabel(None)\n",
    "plt.show()"
   ]
  },
  {
   "cell_type": "code",
   "execution_count": 44,
   "id": "686592e4",
   "metadata": {},
   "outputs": [
    {
     "data": {
      "image/png": "[encoded data removed]",
      "text/plain": [
       "<Figure size 1008x1008 with 30 Axes>"
      ]
     },
     "metadata": {
      "needs_background": "light"
     },
     "output_type": "display_data"
    }
   ],
   "source": [
    "numeric_columns = df.select_dtypes(include=['float64', 'Int64']).columns\n",
    "\n",
    "fig, axes = plt.subplots(6, 5, figsize=(14,14))\n",
    "\n",
    "row = 0\n",
    "col = 0\n",
    "\n",
    "for column in numeric_columns:\n",
    "    axes[row][col].set(ylabel=None)\n",
    "    sns.boxplot(data=df, x='Credit_Score', y=column, \n",
    "                hue='Credit_Score', \n",
    "                ax=axes[row][col]).set_title(column, fontsize=14)\n",
    "    col += 1\n",
    "    if col == 5:\n",
    "        row += 1\n",
    "        col = 0\n",
    "        \n",
    "fig.suptitle('Attributes boxplot per Credit Score class', fontsize=18, y=1)\n",
    "plt.setp(axes, ylabel=None, xlabel=None)\n",
    "plt.tight_layout()\n",
    "plt.show()"
   ]
  },
  {
   "cell_type": "code",
   "execution_count": 45,
   "id": "d07d56fd",
   "metadata": {},
   "outputs": [
    {
     "data": {
      "image/png": "[encoded data removed]",
      "text/plain": [
       "<Figure size 864x576 with 2 Axes>"
      ]
     },
     "metadata": {
      "needs_background": "light"
     },
     "output_type": "display_data"
    }
   ],
   "source": [
    "irrelevant_features = ['Payday_Loan', 'Debt_Consolidation_Loan',\n",
    "                        'Not_Specified', 'Credit_Builder_Loan', 'Mortgage_Loan', 'Auto_Loan',\n",
    "                        'Home_Equity_Loan', 'Student_Loan', 'Personal_Loan', 'Credit_Utilization_Ratio',\n",
    "                        'Total_EMI_per_month', 'Amount_invested_monthly']\n",
    "numeric_columns = [col for col in numeric_columns if col not in irrelevant_features] \n",
    "\n",
    "plt.figure(figsize=(12,8))\n",
    "mask = np.triu(np.ones_like(df[numeric_columns].corr(), dtype=bool))\n",
    "cmap = sns.diverging_palette(250, 10, as_cmap=True)\n",
    "sns.heatmap(df[numeric_columns].corr(), annot=True, cmap=cmap, mask=mask)\n",
    "plt.show()"
   ]
  },
  {
   "cell_type": "code",
   "execution_count": 46,
   "id": "fcab8099",
   "metadata": {},
   "outputs": [
    {
     "data": {
      "image/png": "[encoded data removed]",
      "text/plain": [
       "<Figure size 504x504 with 4 Axes>"
      ]
     },
     "metadata": {
      "needs_background": "light"
     },
     "output_type": "display_data"
    }
   ],
   "source": [
    "categorical_columns = ['Credit_Mix', 'Payment_of_Min_Amount', 'Spent_Amount', 'Value_Payments_Size']\n",
    "\n",
    "fig, axes = plt.subplots(2, 2, figsize=(7,7))\n",
    "\n",
    "row = 0\n",
    "col = 0\n",
    "\n",
    "for column in categorical_columns:\n",
    "    #axes[row][col].set(ylabel=None)\n",
    "    sns.histplot(data=df,ax=axes[row][col], x='Credit_Score', \n",
    "                 hue=column, multiple='stack').set_title(column, fontsize=10)\n",
    "    col += 1\n",
    "    if col == 2:\n",
    "        row += 1\n",
    "        col = 0\n",
    "        \n",
    "fig.suptitle('Categorical Variables distribution per Credit Score', fontsize=14, y=1)\n",
    "plt.setp(axes, ylabel=None, xlabel=None)\n",
    "plt.tight_layout()\n",
    "plt.show()"
   ]
  },
  {
   "cell_type": "markdown",
   "id": "9dd6dfb0",
   "metadata": {},
   "source": [
    "## 4. Data Preparation\n",
    "\n",
    "* Spliting into train and test sets\n",
    "* One-Hot Encoding\n",
    "* Rescaling (MinMax)"
   ]
  },
  {
   "cell_type": "code",
   "execution_count": 47,
   "id": "2d955ad8",
   "metadata": {},
   "outputs": [
    {
     "data": {
      "text/plain": [
       "['Age',\n",
       " 'Monthly_Inhand_Salary',\n",
       " 'Num_Bank_Accounts',\n",
       " 'Num_Credit_Card',\n",
       " 'Interest_Rate',\n",
       " 'Num_of_Loan',\n",
       " 'Delay_from_due_date',\n",
       " 'Num_of_Delayed_Payment',\n",
       " 'Changed_Credit_Limit',\n",
       " 'Num_Credit_Inquiries',\n",
       " 'Credit_Mix',\n",
       " 'Outstanding_Debt',\n",
       " 'Payment_of_Min_Amount',\n",
       " 'Monthly_Balance',\n",
       " 'Credit_Score',\n",
       " 'Credit_History_Age_Months']"
      ]
     },
     "execution_count": 47,
     "metadata": {},
     "output_type": "execute_result"
    }
   ],
   "source": [
    "irrelevant_features = ['Payday_Loan', 'Debt_Consolidation_Loan',\n",
    "                        'Not_Specified', 'Credit_Builder_Loan', 'Mortgage_Loan', 'Auto_Loan',\n",
    "                        'Home_Equity_Loan', 'Student_Loan', 'Personal_Loan', 'Credit_Utilization_Ratio',\n",
    "                        'Total_EMI_per_month', 'Amount_invested_monthly', 'Annual_Income',\n",
    "                        'Customer_ID', 'Month', 'Occupation','Spent_Amount','Value_Payments_Size']\n",
    "\n",
    "relevant_features = [col for col in df.columns if col not in irrelevant_features]\n",
    "relevant_features"
   ]
  },
  {
   "cell_type": "code",
   "execution_count": 48,
   "id": "a7096408",
   "metadata": {},
   "outputs": [],
   "source": [
    "train_df = df[relevant_features]"
   ]
  },
  {
   "cell_type": "code",
   "execution_count": 49,
   "id": "414b4b9d",
   "metadata": {},
   "outputs": [],
   "source": [
    "X = train_df[[col for col in train_df.columns if col != 'Credit_Score']]\n",
    "y = train_df['Credit_Score']\n",
    "\n",
    "\n",
    "categorical_columns = X.select_dtypes(object).columns\n",
    "X = pd.concat( [X, pd.get_dummies(X[categorical_columns], dtype='int64')], axis=1)\n",
    "X.drop(columns=categorical_columns, inplace=True)"
   ]
  },
  {
   "cell_type": "code",
   "execution_count": 50,
   "id": "4ceea0ec",
   "metadata": {},
   "outputs": [],
   "source": [
    "X_train, X_test, y_train, y_test = train_test_split(X, y, stratify=y, train_size=0.7, random_state=11)"
   ]
  },
  {
   "cell_type": "code",
   "execution_count": 51,
   "id": "b92be0f9",
   "metadata": {},
   "outputs": [],
   "source": [
    "MM = MinMaxScaler()\n",
    "\n",
    "X_train[X.columns] = MM.fit_transform(X_train[X.columns])\n",
    "X_test[X.columns] = MM.transform(X_test[X.columns])"
   ]
  },
  {
   "cell_type": "markdown",
   "id": "7a029802",
   "metadata": {},
   "source": [
    "## 5. Feature Selection\n",
    "\n",
    "* All 18 features will be considered"
   ]
  },
  {
   "cell_type": "code",
   "execution_count": 52,
   "id": "206ebbc9",
   "metadata": {},
   "outputs": [
    {
     "data": {
      "text/plain": [
       "(70000, 18)"
      ]
     },
     "execution_count": 52,
     "metadata": {},
     "output_type": "execute_result"
    }
   ],
   "source": [
    "X_train.shape"
   ]
  },
  {
   "cell_type": "code",
   "execution_count": 53,
   "id": "4ae0facb",
   "metadata": {},
   "outputs": [
    {
     "data": {
      "text/html": [
       "<style>#sk-container-id-1 {color: black;background-color: white;}#sk-container-id-1 pre{padding: 0;}#sk-container-id-1 div.sk-toggleable {background-color: white;}#sk-container-id-1 label.sk-toggleable__label {cursor: pointer;display: block;width: 100%;margin-bottom: 0;padding: 0.3em;box-sizing: border-box;text-align: center;}#sk-container-id-1 label.sk-toggleable__label-arrow:before {content: \"▸\";float: left;margin-right: 0.25em;color: #696969;}#sk-container-id-1 label.sk-toggleable__label-arrow:hover:before {color: black;}#sk-container-id-1 div.sk-estimator:hover label.sk-toggleable__label-arrow:before {color: black;}#sk-container-id-1 div.sk-toggleable__content {max-height: 0;max-width: 0;overflow: hidden;text-align: left;background-color: #f0f8ff;}#sk-container-id-1 div.sk-toggleable__content pre {margin: 0.2em;color: black;border-radius: 0.25em;background-color: #f0f8ff;}#sk-container-id-1 input.sk-toggleable__control:checked~div.sk-toggleable__content {max-height: 200px;max-width: 100%;overflow: auto;}#sk-container-id-1 input.sk-toggleable__control:checked~label.sk-toggleable__label-arrow:before {content: \"▾\";}#sk-container-id-1 div.sk-estimator input.sk-toggleable__control:checked~label.sk-toggleable__label {background-color: #d4ebff;}#sk-container-id-1 div.sk-label input.sk-toggleable__control:checked~label.sk-toggleable__label {background-color: #d4ebff;}#sk-container-id-1 input.sk-hidden--visually {border: 0;clip: rect(1px 1px 1px 1px);clip: rect(1px, 1px, 1px, 1px);height: 1px;margin: -1px;overflow: hidden;padding: 0;position: absolute;width: 1px;}#sk-container-id-1 div.sk-estimator {font-family: monospace;background-color: #f0f8ff;border: 1px dotted black;border-radius: 0.25em;box-sizing: border-box;margin-bottom: 0.5em;}#sk-container-id-1 div.sk-estimator:hover {background-color: #d4ebff;}#sk-container-id-1 div.sk-parallel-item::after {content: \"\";width: 100%;border-bottom: 1px solid gray;flex-grow: 1;}#sk-container-id-1 div.sk-label:hover label.sk-toggleable__label {background-color: #d4ebff;}#sk-container-id-1 div.sk-serial::before {content: \"\";position: absolute;border-left: 1px solid gray;box-sizing: border-box;top: 0;bottom: 0;left: 50%;z-index: 0;}#sk-container-id-1 div.sk-serial {display: flex;flex-direction: column;align-items: center;background-color: white;padding-right: 0.2em;padding-left: 0.2em;position: relative;}#sk-container-id-1 div.sk-item {position: relative;z-index: 1;}#sk-container-id-1 div.sk-parallel {display: flex;align-items: stretch;justify-content: center;background-color: white;position: relative;}#sk-container-id-1 div.sk-item::before, #sk-container-id-1 div.sk-parallel-item::before {content: \"\";position: absolute;border-left: 1px solid gray;box-sizing: border-box;top: 0;bottom: 0;left: 50%;z-index: -1;}#sk-container-id-1 div.sk-parallel-item {display: flex;flex-direction: column;z-index: 1;position: relative;background-color: white;}#sk-container-id-1 div.sk-parallel-item:first-child::after {align-self: flex-end;width: 50%;}#sk-container-id-1 div.sk-parallel-item:last-child::after {align-self: flex-start;width: 50%;}#sk-container-id-1 div.sk-parallel-item:only-child::after {width: 0;}#sk-container-id-1 div.sk-dashed-wrapped {border: 1px dashed gray;margin: 0 0.4em 0.5em 0.4em;box-sizing: border-box;padding-bottom: 0.4em;background-color: white;}#sk-container-id-1 div.sk-label label {font-family: monospace;font-weight: bold;display: inline-block;line-height: 1.2em;}#sk-container-id-1 div.sk-label-container {text-align: center;}#sk-container-id-1 div.sk-container {/* jupyter's `normalize.less` sets `[hidden] { display: none; }` but bootstrap.min.css set `[hidden] { display: none !important; }` so we also need the `!important` here to be able to override the default hidden behavior on the sphinx rendered scikit-learn.org. See: https://github.com/scikit-learn/scikit-learn/issues/21755 */display: inline-block !important;position: relative;}#sk-container-id-1 div.sk-text-repr-fallback {display: none;}</style><div id=\"sk-container-id-1\" class=\"sk-top-container\"><div class=\"sk-text-repr-fallback\"><pre>RandomForestClassifier(random_state=0)</pre><b>In a Jupyter environment, please rerun this cell to show the HTML representation or trust the notebook. <br />On GitHub, the HTML representation is unable to render, please try loading this page with nbviewer.org.</b></div><div class=\"sk-container\" hidden><div class=\"sk-item\"><div class=\"sk-estimator sk-toggleable\"><input class=\"sk-toggleable__control sk-hidden--visually\" id=\"sk-estimator-id-1\" type=\"checkbox\" checked><label for=\"sk-estimator-id-1\" class=\"sk-toggleable__label sk-toggleable__label-arrow\">RandomForestClassifier</label><div class=\"sk-toggleable__content\"><pre>RandomForestClassifier(random_state=0)</pre></div></div></div></div></div>"
      ],
      "text/plain": [
       "RandomForestClassifier(random_state=0)"
      ]
     },
     "execution_count": 53,
     "metadata": {},
     "output_type": "execute_result"
    }
   ],
   "source": [
    "feature_names = [f\"feature {i}\" for i in range(X_train.shape[1])]\n",
    "forest = RandomForestClassifier(random_state=0)\n",
    "forest.fit(X_train, y_train)"
   ]
  },
  {
   "cell_type": "code",
   "execution_count": 54,
   "id": "93d173e7",
   "metadata": {},
   "outputs": [
    {
     "data": {
      "image/png": "[encoded data removed]",
      "text/plain": [
       "<Figure size 576x360 with 1 Axes>"
      ]
     },
     "metadata": {
      "needs_background": "light"
     },
     "output_type": "display_data"
    }
   ],
   "source": [
    "importances = forest.feature_importances_\n",
    "std = np.std([tree.feature_importances_ for tree in forest.estimators_], axis=0)\n",
    "\n",
    "forest_importances = pd.Series(importances, index=feature_names)\n",
    "\n",
    "fig, ax = plt.subplots(figsize=(8,5))\n",
    "forest_importances.plot.bar(yerr=std, ax=ax)\n",
    "ax.set_title(\"Feature importances using MDI\")\n",
    "ax.set_ylabel(\"Mean decrease in impurity\")\n",
    "fig.tight_layout()"
   ]
  },
  {
   "cell_type": "markdown",
   "id": "b7e596e0",
   "metadata": {},
   "source": [
    "## 5. Machine Learning Models"
   ]
  },
  {
   "cell_type": "code",
   "execution_count": 79,
   "id": "f409d8ae",
   "metadata": {},
   "outputs": [],
   "source": [
    "# Returns classification metrics\n",
    "def get_metrics(model_name, y_true, y_pred):\n",
    "    \n",
    "    accuracy = balanced_accuracy_score(y_true, y_pred)\n",
    "    precision = precision_score(y_true, y_pred, average='macro', zero_division=0.0)\n",
    "    recall = recall_score(y_true, y_pred, average='macro')\n",
    "    f1 = f1_score(y_true, y_pred, average='macro')\n",
    "    \n",
    "    return pd.DataFrame({'Balanced Accuracy': np.round(accuracy, 3), \n",
    "                         'Precision': np.round(precision, 3), \n",
    "                         'Recall': np.round(recall, 3),\n",
    "                         'F1': np.round(f1, 3)}, \n",
    "                        index=[model_name])"
   ]
  },
  {
   "cell_type": "markdown",
   "id": "5c9d3c26",
   "metadata": {},
   "source": [
    "### 5.1. Dummy Model (Baseline)"
   ]
  },
  {
   "cell_type": "code",
   "execution_count": 86,
   "id": "b871aefa",
   "metadata": {},
   "outputs": [],
   "source": [
    "dummy = DummyClassifier()\n",
    "dummy.fit(X_train, y_train)\n",
    "\n",
    "y_pred = dummy.predict(X_test)"
   ]
  },
  {
   "cell_type": "code",
   "execution_count": 87,
   "id": "067858f0",
   "metadata": {},
   "outputs": [
    {
     "name": "stdout",
     "output_type": "stream",
     "text": [
      "              precision    recall  f1-score   support\n",
      "\n",
      "        Good       0.00      0.00      0.00      5349\n",
      "        Poor       0.00      0.00      0.00      8699\n",
      "    Standard       0.53      1.00      0.69     15952\n",
      "\n",
      "    accuracy                           0.53     30000\n",
      "   macro avg       0.18      0.33      0.23     30000\n",
      "weighted avg       0.28      0.53      0.37     30000\n",
      "\n"
     ]
    }
   ],
   "source": [
    "print(classification_report(y_test, y_pred, zero_division=0.0))"
   ]
  },
  {
   "cell_type": "code",
   "execution_count": 88,
   "id": "2a90a82a",
   "metadata": {},
   "outputs": [
    {
     "data": {
      "text/html": [
       "<div>\n",
       "<style scoped>\n",
       "    .dataframe tbody tr th:only-of-type {\n",
       "        vertical-align: middle;\n",
       "    }\n",
       "\n",
       "    .dataframe tbody tr th {\n",
       "        vertical-align: top;\n",
       "    }\n",
       "\n",
       "    .dataframe thead th {\n",
       "        text-align: right;\n",
       "    }\n",
       "</style>\n",
       "<table border=\"1\" class=\"dataframe\">\n",
       "  <thead>\n",
       "    <tr style=\"text-align: right;\">\n",
       "      <th></th>\n",
       "      <th>Balanced Accuracy</th>\n",
       "      <th>Precision</th>\n",
       "      <th>Recall</th>\n",
       "      <th>F1</th>\n",
       "    </tr>\n",
       "  </thead>\n",
       "  <tbody>\n",
       "    <tr>\n",
       "      <th>Dummy</th>\n",
       "      <td>0.333</td>\n",
       "      <td>0.177</td>\n",
       "      <td>0.333</td>\n",
       "      <td>0.231</td>\n",
       "    </tr>\n",
       "  </tbody>\n",
       "</table>\n",
       "</div>"
      ],
      "text/plain": [
       "       Balanced Accuracy  Precision  Recall     F1\n",
       "Dummy              0.333      0.177   0.333  0.231"
      ]
     },
     "execution_count": 88,
     "metadata": {},
     "output_type": "execute_result"
    }
   ],
   "source": [
    "dummy_scores = get_metrics('Dummy', y_test, y_pred)\n",
    "dummy_scores"
   ]
  },
  {
   "cell_type": "markdown",
   "id": "c60bc851",
   "metadata": {},
   "source": [
    "### 5.2. Random Forest Classifier"
   ]
  },
  {
   "cell_type": "code",
   "execution_count": 89,
   "id": "dca79beb",
   "metadata": {},
   "outputs": [],
   "source": [
    "RFC = RandomForestClassifier(random_state=0)\n",
    "RFC.fit(X_train, y_train)\n",
    "\n",
    "y_pred = RFC.predict(X_test)"
   ]
  },
  {
   "cell_type": "code",
   "execution_count": 90,
   "id": "4ce3298b",
   "metadata": {},
   "outputs": [
    {
     "name": "stdout",
     "output_type": "stream",
     "text": [
      "              precision    recall  f1-score   support\n",
      "\n",
      "        Good       0.77      0.77      0.77      5349\n",
      "        Poor       0.79      0.83      0.81      8699\n",
      "    Standard       0.83      0.81      0.82     15952\n",
      "\n",
      "    accuracy                           0.81     30000\n",
      "   macro avg       0.80      0.80      0.80     30000\n",
      "weighted avg       0.81      0.81      0.81     30000\n",
      "\n"
     ]
    }
   ],
   "source": [
    "print(classification_report(y_test, y_pred))"
   ]
  },
  {
   "cell_type": "code",
   "execution_count": 91,
   "id": "3c7ff940",
   "metadata": {},
   "outputs": [
    {
     "data": {
      "text/html": [
       "<div>\n",
       "<style scoped>\n",
       "    .dataframe tbody tr th:only-of-type {\n",
       "        vertical-align: middle;\n",
       "    }\n",
       "\n",
       "    .dataframe tbody tr th {\n",
       "        vertical-align: top;\n",
       "    }\n",
       "\n",
       "    .dataframe thead th {\n",
       "        text-align: right;\n",
       "    }\n",
       "</style>\n",
       "<table border=\"1\" class=\"dataframe\">\n",
       "  <thead>\n",
       "    <tr style=\"text-align: right;\">\n",
       "      <th></th>\n",
       "      <th>Balanced Accuracy</th>\n",
       "      <th>Precision</th>\n",
       "      <th>Recall</th>\n",
       "      <th>F1</th>\n",
       "    </tr>\n",
       "  </thead>\n",
       "  <tbody>\n",
       "    <tr>\n",
       "      <th>Random Forest</th>\n",
       "      <td>0.804</td>\n",
       "      <td>0.799</td>\n",
       "      <td>0.804</td>\n",
       "      <td>0.801</td>\n",
       "    </tr>\n",
       "  </tbody>\n",
       "</table>\n",
       "</div>"
      ],
      "text/plain": [
       "               Balanced Accuracy  Precision  Recall     F1\n",
       "Random Forest              0.804      0.799   0.804  0.801"
      ]
     },
     "execution_count": 91,
     "metadata": {},
     "output_type": "execute_result"
    }
   ],
   "source": [
    "random_forest_scores = get_metrics('Random Forest', y_test, y_pred)\n",
    "random_forest_scores"
   ]
  },
  {
   "cell_type": "markdown",
   "id": "f97bd760",
   "metadata": {},
   "source": [
    "### 5.3. Multinomial Logistic Regression"
   ]
  },
  {
   "cell_type": "code",
   "execution_count": 98,
   "id": "21526599",
   "metadata": {},
   "outputs": [],
   "source": [
    "MLR = LogisticRegression(random_state=0, multi_class='multinomial', max_iter=1000)\n",
    "MLR.fit(X_train, y_train)\n",
    "\n",
    "y_pred = MLR.predict(X_test)"
   ]
  },
  {
   "cell_type": "code",
   "execution_count": 100,
   "id": "79835a8e",
   "metadata": {},
   "outputs": [
    {
     "name": "stdout",
     "output_type": "stream",
     "text": [
      "              precision    recall  f1-score   support\n",
      "\n",
      "        Good       0.55      0.71      0.62      5349\n",
      "        Poor       0.67      0.55      0.60      8699\n",
      "    Standard       0.71      0.71      0.71     15952\n",
      "\n",
      "    accuracy                           0.66     30000\n",
      "   macro avg       0.64      0.66      0.64     30000\n",
      "weighted avg       0.67      0.66      0.66     30000\n",
      "\n"
     ]
    }
   ],
   "source": [
    "print(classification_report(y_test, y_pred))"
   ]
  },
  {
   "cell_type": "code",
   "execution_count": 99,
   "id": "c92c4b30",
   "metadata": {},
   "outputs": [
    {
     "data": {
      "text/html": [
       "<div>\n",
       "<style scoped>\n",
       "    .dataframe tbody tr th:only-of-type {\n",
       "        vertical-align: middle;\n",
       "    }\n",
       "\n",
       "    .dataframe tbody tr th {\n",
       "        vertical-align: top;\n",
       "    }\n",
       "\n",
       "    .dataframe thead th {\n",
       "        text-align: right;\n",
       "    }\n",
       "</style>\n",
       "<table border=\"1\" class=\"dataframe\">\n",
       "  <thead>\n",
       "    <tr style=\"text-align: right;\">\n",
       "      <th></th>\n",
       "      <th>Balanced Accuracy</th>\n",
       "      <th>Precision</th>\n",
       "      <th>Recall</th>\n",
       "      <th>F1</th>\n",
       "    </tr>\n",
       "  </thead>\n",
       "  <tbody>\n",
       "    <tr>\n",
       "      <th>Multinomial Logistic Regression</th>\n",
       "      <td>0.656</td>\n",
       "      <td>0.643</td>\n",
       "      <td>0.656</td>\n",
       "      <td>0.644</td>\n",
       "    </tr>\n",
       "  </tbody>\n",
       "</table>\n",
       "</div>"
      ],
      "text/plain": [
       "                                 Balanced Accuracy  Precision  Recall     F1\n",
       "Multinomial Logistic Regression              0.656      0.643   0.656  0.644"
      ]
     },
     "execution_count": 99,
     "metadata": {},
     "output_type": "execute_result"
    }
   ],
   "source": [
    "multi_logistic_regression = get_metrics('Multinomial Logistic Regression', y_test, y_pred)\n",
    "multi_logistic_regression"
   ]
  },
  {
   "cell_type": "markdown",
   "id": "c28fc235",
   "metadata": {},
   "source": [
    "### 5.4. XGBoost"
   ]
  },
  {
   "cell_type": "code",
   "execution_count": 106,
   "id": "0b7aa6fe",
   "metadata": {},
   "outputs": [],
   "source": [
    "y_trainXGB = y_train.map({\"Poor\": 0, \"Standard\": 1, \"Good\": 2})\n",
    "y_testXGB = y_test.map({\"Poor\": 0, \"Standard\": 1, \"Good\": 2})"
   ]
  },
  {
   "cell_type": "code",
   "execution_count": 110,
   "id": "02b649e5",
   "metadata": {},
   "outputs": [],
   "source": [
    "XGB = XGBClassifier()\n",
    "XGB.fit(X_train, y_trainXGB)\n",
    "\n",
    "y_pred = XGB.predict(X_test)"
   ]
  },
  {
   "cell_type": "code",
   "execution_count": 111,
   "id": "21a8d501",
   "metadata": {},
   "outputs": [
    {
     "name": "stdout",
     "output_type": "stream",
     "text": [
      "              precision    recall  f1-score   support\n",
      "\n",
      "           0       0.76      0.76      0.76      8699\n",
      "           1       0.79      0.78      0.79     15952\n",
      "           2       0.70      0.73      0.71      5349\n",
      "\n",
      "    accuracy                           0.77     30000\n",
      "   macro avg       0.75      0.76      0.75     30000\n",
      "weighted avg       0.77      0.77      0.77     30000\n",
      "\n"
     ]
    }
   ],
   "source": [
    "print(classification_report(y_testXGB, y_pred))"
   ]
  },
  {
   "cell_type": "code",
   "execution_count": 112,
   "id": "00e80b9e",
   "metadata": {},
   "outputs": [
    {
     "data": {
      "text/html": [
       "<div>\n",
       "<style scoped>\n",
       "    .dataframe tbody tr th:only-of-type {\n",
       "        vertical-align: middle;\n",
       "    }\n",
       "\n",
       "    .dataframe tbody tr th {\n",
       "        vertical-align: top;\n",
       "    }\n",
       "\n",
       "    .dataframe thead th {\n",
       "        text-align: right;\n",
       "    }\n",
       "</style>\n",
       "<table border=\"1\" class=\"dataframe\">\n",
       "  <thead>\n",
       "    <tr style=\"text-align: right;\">\n",
       "      <th></th>\n",
       "      <th>Balanced Accuracy</th>\n",
       "      <th>Precision</th>\n",
       "      <th>Recall</th>\n",
       "      <th>F1</th>\n",
       "    </tr>\n",
       "  </thead>\n",
       "  <tbody>\n",
       "    <tr>\n",
       "      <th>XGBoost</th>\n",
       "      <td>0.757</td>\n",
       "      <td>0.751</td>\n",
       "      <td>0.757</td>\n",
       "      <td>0.754</td>\n",
       "    </tr>\n",
       "  </tbody>\n",
       "</table>\n",
       "</div>"
      ],
      "text/plain": [
       "         Balanced Accuracy  Precision  Recall     F1\n",
       "XGBoost              0.757      0.751   0.757  0.754"
      ]
     },
     "execution_count": 112,
     "metadata": {},
     "output_type": "execute_result"
    }
   ],
   "source": [
    "XGBoost = get_metrics('XGBoost', y_testXGB, y_pred)\n",
    "XGBoost"
   ]
  },
  {
   "cell_type": "markdown",
   "id": "fcfff44f",
   "metadata": {},
   "source": [
    "## 6. Model Comparison\n",
    "\n",
    "* Random Forest model had the best performance overall (F1 score = 0.801). It will be chosen for hyperparemeter tuning."
   ]
  },
  {
   "cell_type": "code",
   "execution_count": 115,
   "id": "5b317b59",
   "metadata": {},
   "outputs": [
    {
     "data": {
      "text/html": [
       "<div>\n",
       "<style scoped>\n",
       "    .dataframe tbody tr th:only-of-type {\n",
       "        vertical-align: middle;\n",
       "    }\n",
       "\n",
       "    .dataframe tbody tr th {\n",
       "        vertical-align: top;\n",
       "    }\n",
       "\n",
       "    .dataframe thead th {\n",
       "        text-align: right;\n",
       "    }\n",
       "</style>\n",
       "<table border=\"1\" class=\"dataframe\">\n",
       "  <thead>\n",
       "    <tr style=\"text-align: right;\">\n",
       "      <th></th>\n",
       "      <th>Balanced Accuracy</th>\n",
       "      <th>Precision</th>\n",
       "      <th>Recall</th>\n",
       "      <th>F1</th>\n",
       "    </tr>\n",
       "  </thead>\n",
       "  <tbody>\n",
       "    <tr>\n",
       "      <th>Random Forest</th>\n",
       "      <td>0.804</td>\n",
       "      <td>0.799</td>\n",
       "      <td>0.804</td>\n",
       "      <td>0.801</td>\n",
       "    </tr>\n",
       "    <tr>\n",
       "      <th>XGBoost</th>\n",
       "      <td>0.757</td>\n",
       "      <td>0.751</td>\n",
       "      <td>0.757</td>\n",
       "      <td>0.754</td>\n",
       "    </tr>\n",
       "    <tr>\n",
       "      <th>Multinomial Logistic Regression</th>\n",
       "      <td>0.656</td>\n",
       "      <td>0.643</td>\n",
       "      <td>0.656</td>\n",
       "      <td>0.644</td>\n",
       "    </tr>\n",
       "    <tr>\n",
       "      <th>Dummy</th>\n",
       "      <td>0.333</td>\n",
       "      <td>0.177</td>\n",
       "      <td>0.333</td>\n",
       "      <td>0.231</td>\n",
       "    </tr>\n",
       "  </tbody>\n",
       "</table>\n",
       "</div>"
      ],
      "text/plain": [
       "                                 Balanced Accuracy  Precision  Recall     F1\n",
       "Random Forest                                0.804      0.799   0.804  0.801\n",
       "XGBoost                                      0.757      0.751   0.757  0.754\n",
       "Multinomial Logistic Regression              0.656      0.643   0.656  0.644\n",
       "Dummy                                        0.333      0.177   0.333  0.231"
      ]
     },
     "execution_count": 115,
     "metadata": {},
     "output_type": "execute_result"
    }
   ],
   "source": [
    "all_models = pd.concat([dummy_scores, random_forest_scores, \n",
    "                        multi_logistic_regression, XGBoost]).sort_values(by='F1', ascending=False)\n",
    "all_models"
   ]
  },
  {
   "cell_type": "markdown",
   "id": "30f0a86a",
   "metadata": {},
   "source": [
    "## 7. Hyperparameter Tuning\n",
    "\n",
    "* Tuning hyperparameters for Random Forest Classifier\n",
    "    * Number of trees (n_estimators)\n",
    "    * Maximum depth of tree (max_depth)\n",
    "    * The minimum number of samples required to be at a leaf node (min_samples_leaf)\n",
    "    * The minimum number of samples required to split an internal node (min_samples_split)\n",
    "   "
   ]
  },
  {
   "cell_type": "code",
   "execution_count": 182,
   "id": "29566574",
   "metadata": {},
   "outputs": [],
   "source": [
    "n_estimators = [30, 50, 100]\n",
    "max_depth = [10, 20, 50, 100]\n",
    "min_samples_leaf = [1, 2, 3]\n",
    "min_samples_split = [2, 4]"
   ]
  },
  {
   "cell_type": "code",
   "execution_count": 183,
   "id": "0d2f2f56",
   "metadata": {},
   "outputs": [],
   "source": [
    "params = {\n",
    "    'n_estimators': n_estimators,\n",
    "    'max_depth': max_depth,\n",
    "    'min_samples_leaf': min_samples_leaf,\n",
    "    'min_samples_split': min_samples_split\n",
    "}"
   ]
  },
  {
   "cell_type": "code",
   "execution_count": 184,
   "id": "897200f3",
   "metadata": {},
   "outputs": [],
   "source": [
    "RFModel = RandomForestClassifier()"
   ]
  },
  {
   "cell_type": "code",
   "execution_count": 185,
   "id": "3d7ca93b",
   "metadata": {},
   "outputs": [],
   "source": [
    "RFGrid = GridSearchCV(estimator=RFModel,\n",
    "                      param_grid=params,\n",
    "                      cv=3,\n",
    "                      verbose=3,\n",
    "                      n_jobs=-1)"
   ]
  },
  {
   "cell_type": "code",
   "execution_count": 186,
   "id": "73641b01",
   "metadata": {},
   "outputs": [
    {
     "name": "stdout",
     "output_type": "stream",
     "text": [
      "Fitting 3 folds for each of 72 candidates, totalling 216 fits\n"
     ]
    },
    {
     "data": {
      "text/html": [
       "<style>#sk-container-id-11 {color: black;background-color: white;}#sk-container-id-11 pre{padding: 0;}#sk-container-id-11 div.sk-toggleable {background-color: white;}#sk-container-id-11 label.sk-toggleable__label {cursor: pointer;display: block;width: 100%;margin-bottom: 0;padding: 0.3em;box-sizing: border-box;text-align: center;}#sk-container-id-11 label.sk-toggleable__label-arrow:before {content: \"▸\";float: left;margin-right: 0.25em;color: #696969;}#sk-container-id-11 label.sk-toggleable__label-arrow:hover:before {color: black;}#sk-container-id-11 div.sk-estimator:hover label.sk-toggleable__label-arrow:before {color: black;}#sk-container-id-11 div.sk-toggleable__content {max-height: 0;max-width: 0;overflow: hidden;text-align: left;background-color: #f0f8ff;}#sk-container-id-11 div.sk-toggleable__content pre {margin: 0.2em;color: black;border-radius: 0.25em;background-color: #f0f8ff;}#sk-container-id-11 input.sk-toggleable__control:checked~div.sk-toggleable__content {max-height: 200px;max-width: 100%;overflow: auto;}#sk-container-id-11 input.sk-toggleable__control:checked~label.sk-toggleable__label-arrow:before {content: \"▾\";}#sk-container-id-11 div.sk-estimator input.sk-toggleable__control:checked~label.sk-toggleable__label {background-color: #d4ebff;}#sk-container-id-11 div.sk-label input.sk-toggleable__control:checked~label.sk-toggleable__label {background-color: #d4ebff;}#sk-container-id-11 input.sk-hidden--visually {border: 0;clip: rect(1px 1px 1px 1px);clip: rect(1px, 1px, 1px, 1px);height: 1px;margin: -1px;overflow: hidden;padding: 0;position: absolute;width: 1px;}#sk-container-id-11 div.sk-estimator {font-family: monospace;background-color: #f0f8ff;border: 1px dotted black;border-radius: 0.25em;box-sizing: border-box;margin-bottom: 0.5em;}#sk-container-id-11 div.sk-estimator:hover {background-color: #d4ebff;}#sk-container-id-11 div.sk-parallel-item::after {content: \"\";width: 100%;border-bottom: 1px solid gray;flex-grow: 1;}#sk-container-id-11 div.sk-label:hover label.sk-toggleable__label {background-color: #d4ebff;}#sk-container-id-11 div.sk-serial::before {content: \"\";position: absolute;border-left: 1px solid gray;box-sizing: border-box;top: 0;bottom: 0;left: 50%;z-index: 0;}#sk-container-id-11 div.sk-serial {display: flex;flex-direction: column;align-items: center;background-color: white;padding-right: 0.2em;padding-left: 0.2em;position: relative;}#sk-container-id-11 div.sk-item {position: relative;z-index: 1;}#sk-container-id-11 div.sk-parallel {display: flex;align-items: stretch;justify-content: center;background-color: white;position: relative;}#sk-container-id-11 div.sk-item::before, #sk-container-id-11 div.sk-parallel-item::before {content: \"\";position: absolute;border-left: 1px solid gray;box-sizing: border-box;top: 0;bottom: 0;left: 50%;z-index: -1;}#sk-container-id-11 div.sk-parallel-item {display: flex;flex-direction: column;z-index: 1;position: relative;background-color: white;}#sk-container-id-11 div.sk-parallel-item:first-child::after {align-self: flex-end;width: 50%;}#sk-container-id-11 div.sk-parallel-item:last-child::after {align-self: flex-start;width: 50%;}#sk-container-id-11 div.sk-parallel-item:only-child::after {width: 0;}#sk-container-id-11 div.sk-dashed-wrapped {border: 1px dashed gray;margin: 0 0.4em 0.5em 0.4em;box-sizing: border-box;padding-bottom: 0.4em;background-color: white;}#sk-container-id-11 div.sk-label label {font-family: monospace;font-weight: bold;display: inline-block;line-height: 1.2em;}#sk-container-id-11 div.sk-label-container {text-align: center;}#sk-container-id-11 div.sk-container {/* jupyter's `normalize.less` sets `[hidden] { display: none; }` but bootstrap.min.css set `[hidden] { display: none !important; }` so we also need the `!important` here to be able to override the default hidden behavior on the sphinx rendered scikit-learn.org. See: https://github.com/scikit-learn/scikit-learn/issues/21755 */display: inline-block !important;position: relative;}#sk-container-id-11 div.sk-text-repr-fallback {display: none;}</style><div id=\"sk-container-id-11\" class=\"sk-top-container\"><div class=\"sk-text-repr-fallback\"><pre>GridSearchCV(cv=3, estimator=RandomForestClassifier(), n_jobs=-1,\n",
       "             param_grid={&#x27;max_depth&#x27;: [10, 20, 50, 100],\n",
       "                         &#x27;min_samples_leaf&#x27;: [1, 2, 3],\n",
       "                         &#x27;min_samples_split&#x27;: [2, 4],\n",
       "                         &#x27;n_estimators&#x27;: [30, 50, 100]},\n",
       "             verbose=3)</pre><b>In a Jupyter environment, please rerun this cell to show the HTML representation or trust the notebook. <br />On GitHub, the HTML representation is unable to render, please try loading this page with nbviewer.org.</b></div><div class=\"sk-container\" hidden><div class=\"sk-item sk-dashed-wrapped\"><div class=\"sk-label-container\"><div class=\"sk-label sk-toggleable\"><input class=\"sk-toggleable__control sk-hidden--visually\" id=\"sk-estimator-id-27\" type=\"checkbox\" ><label for=\"sk-estimator-id-27\" class=\"sk-toggleable__label sk-toggleable__label-arrow\">GridSearchCV</label><div class=\"sk-toggleable__content\"><pre>GridSearchCV(cv=3, estimator=RandomForestClassifier(), n_jobs=-1,\n",
       "             param_grid={&#x27;max_depth&#x27;: [10, 20, 50, 100],\n",
       "                         &#x27;min_samples_leaf&#x27;: [1, 2, 3],\n",
       "                         &#x27;min_samples_split&#x27;: [2, 4],\n",
       "                         &#x27;n_estimators&#x27;: [30, 50, 100]},\n",
       "             verbose=3)</pre></div></div></div><div class=\"sk-parallel\"><div class=\"sk-parallel-item\"><div class=\"sk-item\"><div class=\"sk-label-container\"><div class=\"sk-label sk-toggleable\"><input class=\"sk-toggleable__control sk-hidden--visually\" id=\"sk-estimator-id-28\" type=\"checkbox\" ><label for=\"sk-estimator-id-28\" class=\"sk-toggleable__label sk-toggleable__label-arrow\">estimator: RandomForestClassifier</label><div class=\"sk-toggleable__content\"><pre>RandomForestClassifier()</pre></div></div></div><div class=\"sk-serial\"><div class=\"sk-item\"><div class=\"sk-estimator sk-toggleable\"><input class=\"sk-toggleable__control sk-hidden--visually\" id=\"sk-estimator-id-29\" type=\"checkbox\" ><label for=\"sk-estimator-id-29\" class=\"sk-toggleable__label sk-toggleable__label-arrow\">RandomForestClassifier</label><div class=\"sk-toggleable__content\"><pre>RandomForestClassifier()</pre></div></div></div></div></div></div></div></div></div></div>"
      ],
      "text/plain": [
       "GridSearchCV(cv=3, estimator=RandomForestClassifier(), n_jobs=-1,\n",
       "             param_grid={'max_depth': [10, 20, 50, 100],\n",
       "                         'min_samples_leaf': [1, 2, 3],\n",
       "                         'min_samples_split': [2, 4],\n",
       "                         'n_estimators': [30, 50, 100]},\n",
       "             verbose=3)"
      ]
     },
     "execution_count": 186,
     "metadata": {},
     "output_type": "execute_result"
    }
   ],
   "source": [
    "RFGrid.fit(X_train, y_train)"
   ]
  },
  {
   "cell_type": "code",
   "execution_count": 187,
   "id": "9e31440b",
   "metadata": {},
   "outputs": [
    {
     "data": {
      "text/plain": [
       "{'max_depth': 50,\n",
       " 'min_samples_leaf': 1,\n",
       " 'min_samples_split': 4,\n",
       " 'n_estimators': 100}"
      ]
     },
     "execution_count": 187,
     "metadata": {},
     "output_type": "execute_result"
    }
   ],
   "source": [
    "best_params = RFGrid.best_params_\n",
    "best_params"
   ]
  },
  {
   "cell_type": "code",
   "execution_count": 188,
   "id": "890457b2",
   "metadata": {},
   "outputs": [
    {
     "data": {
      "text/plain": [
       "0.7937571695072753"
      ]
     },
     "execution_count": 188,
     "metadata": {},
     "output_type": "execute_result"
    }
   ],
   "source": [
    "RFGrid.best_score_"
   ]
  },
  {
   "cell_type": "markdown",
   "id": "87e90a04",
   "metadata": {},
   "source": [
    "### 7.1. Best Parameters"
   ]
  },
  {
   "cell_type": "code",
   "execution_count": 189,
   "id": "0b64534f",
   "metadata": {},
   "outputs": [
    {
     "data": {
      "text/html": [
       "<style>#sk-container-id-12 {color: black;background-color: white;}#sk-container-id-12 pre{padding: 0;}#sk-container-id-12 div.sk-toggleable {background-color: white;}#sk-container-id-12 label.sk-toggleable__label {cursor: pointer;display: block;width: 100%;margin-bottom: 0;padding: 0.3em;box-sizing: border-box;text-align: center;}#sk-container-id-12 label.sk-toggleable__label-arrow:before {content: \"▸\";float: left;margin-right: 0.25em;color: #696969;}#sk-container-id-12 label.sk-toggleable__label-arrow:hover:before {color: black;}#sk-container-id-12 div.sk-estimator:hover label.sk-toggleable__label-arrow:before {color: black;}#sk-container-id-12 div.sk-toggleable__content {max-height: 0;max-width: 0;overflow: hidden;text-align: left;background-color: #f0f8ff;}#sk-container-id-12 div.sk-toggleable__content pre {margin: 0.2em;color: black;border-radius: 0.25em;background-color: #f0f8ff;}#sk-container-id-12 input.sk-toggleable__control:checked~div.sk-toggleable__content {max-height: 200px;max-width: 100%;overflow: auto;}#sk-container-id-12 input.sk-toggleable__control:checked~label.sk-toggleable__label-arrow:before {content: \"▾\";}#sk-container-id-12 div.sk-estimator input.sk-toggleable__control:checked~label.sk-toggleable__label {background-color: #d4ebff;}#sk-container-id-12 div.sk-label input.sk-toggleable__control:checked~label.sk-toggleable__label {background-color: #d4ebff;}#sk-container-id-12 input.sk-hidden--visually {border: 0;clip: rect(1px 1px 1px 1px);clip: rect(1px, 1px, 1px, 1px);height: 1px;margin: -1px;overflow: hidden;padding: 0;position: absolute;width: 1px;}#sk-container-id-12 div.sk-estimator {font-family: monospace;background-color: #f0f8ff;border: 1px dotted black;border-radius: 0.25em;box-sizing: border-box;margin-bottom: 0.5em;}#sk-container-id-12 div.sk-estimator:hover {background-color: #d4ebff;}#sk-container-id-12 div.sk-parallel-item::after {content: \"\";width: 100%;border-bottom: 1px solid gray;flex-grow: 1;}#sk-container-id-12 div.sk-label:hover label.sk-toggleable__label {background-color: #d4ebff;}#sk-container-id-12 div.sk-serial::before {content: \"\";position: absolute;border-left: 1px solid gray;box-sizing: border-box;top: 0;bottom: 0;left: 50%;z-index: 0;}#sk-container-id-12 div.sk-serial {display: flex;flex-direction: column;align-items: center;background-color: white;padding-right: 0.2em;padding-left: 0.2em;position: relative;}#sk-container-id-12 div.sk-item {position: relative;z-index: 1;}#sk-container-id-12 div.sk-parallel {display: flex;align-items: stretch;justify-content: center;background-color: white;position: relative;}#sk-container-id-12 div.sk-item::before, #sk-container-id-12 div.sk-parallel-item::before {content: \"\";position: absolute;border-left: 1px solid gray;box-sizing: border-box;top: 0;bottom: 0;left: 50%;z-index: -1;}#sk-container-id-12 div.sk-parallel-item {display: flex;flex-direction: column;z-index: 1;position: relative;background-color: white;}#sk-container-id-12 div.sk-parallel-item:first-child::after {align-self: flex-end;width: 50%;}#sk-container-id-12 div.sk-parallel-item:last-child::after {align-self: flex-start;width: 50%;}#sk-container-id-12 div.sk-parallel-item:only-child::after {width: 0;}#sk-container-id-12 div.sk-dashed-wrapped {border: 1px dashed gray;margin: 0 0.4em 0.5em 0.4em;box-sizing: border-box;padding-bottom: 0.4em;background-color: white;}#sk-container-id-12 div.sk-label label {font-family: monospace;font-weight: bold;display: inline-block;line-height: 1.2em;}#sk-container-id-12 div.sk-label-container {text-align: center;}#sk-container-id-12 div.sk-container {/* jupyter's `normalize.less` sets `[hidden] { display: none; }` but bootstrap.min.css set `[hidden] { display: none !important; }` so we also need the `!important` here to be able to override the default hidden behavior on the sphinx rendered scikit-learn.org. See: https://github.com/scikit-learn/scikit-learn/issues/21755 */display: inline-block !important;position: relative;}#sk-container-id-12 div.sk-text-repr-fallback {display: none;}</style><div id=\"sk-container-id-12\" class=\"sk-top-container\"><div class=\"sk-text-repr-fallback\"><pre>RandomForestClassifier(max_depth=50, min_samples_split=4)</pre><b>In a Jupyter environment, please rerun this cell to show the HTML representation or trust the notebook. <br />On GitHub, the HTML representation is unable to render, please try loading this page with nbviewer.org.</b></div><div class=\"sk-container\" hidden><div class=\"sk-item\"><div class=\"sk-estimator sk-toggleable\"><input class=\"sk-toggleable__control sk-hidden--visually\" id=\"sk-estimator-id-30\" type=\"checkbox\" checked><label for=\"sk-estimator-id-30\" class=\"sk-toggleable__label sk-toggleable__label-arrow\">RandomForestClassifier</label><div class=\"sk-toggleable__content\"><pre>RandomForestClassifier(max_depth=50, min_samples_split=4)</pre></div></div></div></div></div>"
      ],
      "text/plain": [
       "RandomForestClassifier(max_depth=50, min_samples_split=4)"
      ]
     },
     "execution_count": 189,
     "metadata": {},
     "output_type": "execute_result"
    }
   ],
   "source": [
    "RF_GridS = RandomForestClassifier(\n",
    "    max_depth=best_params['max_depth'],\n",
    "    min_samples_leaf=best_params['min_samples_leaf'],\n",
    "    min_samples_split=best_params['min_samples_split'],\n",
    "    n_estimators=best_params['n_estimators']\n",
    ")\n",
    "\n",
    "RF_GridS.fit(X_train, y_train)"
   ]
  },
  {
   "cell_type": "code",
   "execution_count": 190,
   "id": "b4daef71",
   "metadata": {},
   "outputs": [],
   "source": [
    "y_pred = RF_GridS.predict(X_test)"
   ]
  },
  {
   "cell_type": "code",
   "execution_count": 191,
   "id": "f6f4dbf6",
   "metadata": {},
   "outputs": [
    {
     "data": {
      "text/html": [
       "<div>\n",
       "<style scoped>\n",
       "    .dataframe tbody tr th:only-of-type {\n",
       "        vertical-align: middle;\n",
       "    }\n",
       "\n",
       "    .dataframe tbody tr th {\n",
       "        vertical-align: top;\n",
       "    }\n",
       "\n",
       "    .dataframe thead th {\n",
       "        text-align: right;\n",
       "    }\n",
       "</style>\n",
       "<table border=\"1\" class=\"dataframe\">\n",
       "  <thead>\n",
       "    <tr style=\"text-align: right;\">\n",
       "      <th></th>\n",
       "      <th>Balanced Accuracy</th>\n",
       "      <th>Precision</th>\n",
       "      <th>Recall</th>\n",
       "      <th>F1</th>\n",
       "    </tr>\n",
       "  </thead>\n",
       "  <tbody>\n",
       "    <tr>\n",
       "      <th>Random Forest GS</th>\n",
       "      <td>0.804</td>\n",
       "      <td>0.8</td>\n",
       "      <td>0.804</td>\n",
       "      <td>0.801</td>\n",
       "    </tr>\n",
       "  </tbody>\n",
       "</table>\n",
       "</div>"
      ],
      "text/plain": [
       "                  Balanced Accuracy  Precision  Recall     F1\n",
       "Random Forest GS              0.804        0.8   0.804  0.801"
      ]
     },
     "execution_count": 191,
     "metadata": {},
     "output_type": "execute_result"
    }
   ],
   "source": [
    "results = get_metrics('Random Forest GS', y_test, y_pred)\n",
    "results"
   ]
  },
  {
   "cell_type": "code",
   "execution_count": null,
   "id": "c8466583",
   "metadata": {},
   "outputs": [],
   "source": []
  }
 ],
 "metadata": {
  "kernelspec": {
   "display_name": "Python 3 (ipykernel)",
   "language": "python",
   "name": "python3"
  },
  "language_info": {
   "codemirror_mode": {
    "name": "ipython",
    "version": 3
   },
   "file_extension": ".py",
   "mimetype": "text/x-python",
   "name": "python",
   "nbconvert_exporter": "python",
   "pygments_lexer": "ipython3",
   "version": "3.10.4"
  }
 },
 "nbformat": 4,
 "nbformat_minor": 5
}
